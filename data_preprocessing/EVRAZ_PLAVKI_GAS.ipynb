{
  "nbformat": 4,
  "nbformat_minor": 0,
  "metadata": {
    "colab": {
      "name": "EVRAZ_PLAVKI_GAS.ipynb\"",
      "provenance": [],
      "collapsed_sections": []
    },
    "kernelspec": {
      "name": "python3",
      "display_name": "Python 3"
    },
    "language_info": {
      "name": "python"
    }
  },
  "cells": [
    {
      "cell_type": "code",
      "metadata": {
        "id": "gKkEUvRM1eFB"
      },
      "source": [
        "import pandas as pd\n",
        "import seaborn as sns\n",
        "import matplotlib\n",
        "import numpy as np\n",
        "\n",
        "\n",
        "from sklearn.model_selection import train_test_split\n",
        "from sklearn.preprocessing import LabelEncoder, OneHotEncoder"
      ],
      "execution_count": null,
      "outputs": []
    },
    {
      "cell_type": "code",
      "metadata": {
        "id": "diAfxfkw13g3"
      },
      "source": [
        "def preparation(plavki_train, train: bool):\n",
        "  plavki_train.drop('plavka_ST_GOL', axis=1, inplace=True)\n",
        "  plavki_train['plavka_VR_NACH'], plavki_train['plavka_VR_KON'] = pd.to_datetime(plavki_train['plavka_VR_NACH']), pd.to_datetime(plavki_train['plavka_VR_KON'])\n",
        "  plavki_train['seconds_of_plavka'] = (plavki_train['plavka_VR_KON'] -  plavki_train['plavka_VR_NACH']).dt.seconds\n",
        "\n",
        "  if train:\n",
        "    plavka_511135 = plavki_train[plavki_train['NPLV'] == 511135]\n",
        "    plavka_511135['plavka_ST_FURM'] = int(plavka_511135['plavka_ST_FURM'].median())\n",
        "    plavki_train[plavki_train['NPLV'] == 511135] = plavka_511135\n",
        "\n",
        "  plavki_train.drop_duplicates(inplace=True)\n",
        "\n",
        "  le = LabelEncoder()\n",
        "  dummy_features = ['plavka_NAPR_ZAD', 'plavka_TIPE_FUR']\n",
        "  label_features = ['plavka_NMZ', 'plavka_TIPE_GOL']\n",
        "\n",
        "  for feat in dummy_features:\n",
        "    data_temp = pd.get_dummies(plavki_train[feat], drop_first=True)\n",
        "    plavki_train.drop(feat, axis=1, inplace=True)\n",
        "    data_temp.columns = [feat + '_' + str(col) for col in list(data_temp)]\n",
        "    plavki_train = pd.concat([plavki_train, data_temp], axis=1)\n",
        "\n",
        "  for label_feature in label_features:\n",
        "    plavki_train[label_feature] = le.fit_transform(plavki_train[label_feature])\n",
        "\n",
        "  plavki_train.drop(['plavka_VR_NACH', 'plavka_VR_KON'], axis=1,inplace=True)\n",
        "  return plavki_train"
      ],
      "execution_count": null,
      "outputs": []
    },
    {
      "cell_type": "code",
      "metadata": {
        "id": "N456g7RK11iI",
        "colab": {
          "base_uri": "https://localhost:8080/",
          "height": 431
        },
        "outputId": "9037b225-5a88-4bd6-8733-5fc85ddfd6da"
      },
      "source": [
        "plavki_train = pd.read_csv('plavki_train.csv')\n",
        "plavki_test = pd.read_csv('plavki_test.csv')\n",
        "# target_train = pd.read_csv('target_train.csv')"
      ],
      "execution_count": null,
      "outputs": [
        {
          "output_type": "error",
          "ename": "FileNotFoundError",
          "evalue": "ignored",
          "traceback": [
            "\u001b[0;31m---------------------------------------------------------------------------\u001b[0m",
            "\u001b[0;31mFileNotFoundError\u001b[0m                         Traceback (most recent call last)",
            "\u001b[0;32m<ipython-input-3-2375b00a5218>\u001b[0m in \u001b[0;36m<module>\u001b[0;34m()\u001b[0m\n\u001b[1;32m      1\u001b[0m \u001b[0mplavki_train\u001b[0m \u001b[0;34m=\u001b[0m \u001b[0mpd\u001b[0m\u001b[0;34m.\u001b[0m\u001b[0mread_csv\u001b[0m\u001b[0;34m(\u001b[0m\u001b[0;34m'plavki_train.csv'\u001b[0m\u001b[0;34m)\u001b[0m\u001b[0;34m\u001b[0m\u001b[0;34m\u001b[0m\u001b[0m\n\u001b[1;32m      2\u001b[0m \u001b[0mplavki_test\u001b[0m \u001b[0;34m=\u001b[0m \u001b[0mpd\u001b[0m\u001b[0;34m.\u001b[0m\u001b[0mread_csv\u001b[0m\u001b[0;34m(\u001b[0m\u001b[0;34m'plavki_test.csv'\u001b[0m\u001b[0;34m)\u001b[0m\u001b[0;34m\u001b[0m\u001b[0;34m\u001b[0m\u001b[0m\n\u001b[0;32m----> 3\u001b[0;31m \u001b[0mtarget_train\u001b[0m \u001b[0;34m=\u001b[0m \u001b[0mpd\u001b[0m\u001b[0;34m.\u001b[0m\u001b[0mread_csv\u001b[0m\u001b[0;34m(\u001b[0m\u001b[0;34m'target_train.csv'\u001b[0m\u001b[0;34m)\u001b[0m\u001b[0;34m\u001b[0m\u001b[0;34m\u001b[0m\u001b[0m\n\u001b[0m",
            "\u001b[0;32m/usr/local/lib/python3.7/dist-packages/pandas/io/parsers.py\u001b[0m in \u001b[0;36mread_csv\u001b[0;34m(filepath_or_buffer, sep, delimiter, header, names, index_col, usecols, squeeze, prefix, mangle_dupe_cols, dtype, engine, converters, true_values, false_values, skipinitialspace, skiprows, skipfooter, nrows, na_values, keep_default_na, na_filter, verbose, skip_blank_lines, parse_dates, infer_datetime_format, keep_date_col, date_parser, dayfirst, cache_dates, iterator, chunksize, compression, thousands, decimal, lineterminator, quotechar, quoting, doublequote, escapechar, comment, encoding, dialect, error_bad_lines, warn_bad_lines, delim_whitespace, low_memory, memory_map, float_precision)\u001b[0m\n\u001b[1;32m    686\u001b[0m     )\n\u001b[1;32m    687\u001b[0m \u001b[0;34m\u001b[0m\u001b[0m\n\u001b[0;32m--> 688\u001b[0;31m     \u001b[0;32mreturn\u001b[0m \u001b[0m_read\u001b[0m\u001b[0;34m(\u001b[0m\u001b[0mfilepath_or_buffer\u001b[0m\u001b[0;34m,\u001b[0m \u001b[0mkwds\u001b[0m\u001b[0;34m)\u001b[0m\u001b[0;34m\u001b[0m\u001b[0;34m\u001b[0m\u001b[0m\n\u001b[0m\u001b[1;32m    689\u001b[0m \u001b[0;34m\u001b[0m\u001b[0m\n\u001b[1;32m    690\u001b[0m \u001b[0;34m\u001b[0m\u001b[0m\n",
            "\u001b[0;32m/usr/local/lib/python3.7/dist-packages/pandas/io/parsers.py\u001b[0m in \u001b[0;36m_read\u001b[0;34m(filepath_or_buffer, kwds)\u001b[0m\n\u001b[1;32m    452\u001b[0m \u001b[0;34m\u001b[0m\u001b[0m\n\u001b[1;32m    453\u001b[0m     \u001b[0;31m# Create the parser.\u001b[0m\u001b[0;34m\u001b[0m\u001b[0;34m\u001b[0m\u001b[0;34m\u001b[0m\u001b[0m\n\u001b[0;32m--> 454\u001b[0;31m     \u001b[0mparser\u001b[0m \u001b[0;34m=\u001b[0m \u001b[0mTextFileReader\u001b[0m\u001b[0;34m(\u001b[0m\u001b[0mfp_or_buf\u001b[0m\u001b[0;34m,\u001b[0m \u001b[0;34m**\u001b[0m\u001b[0mkwds\u001b[0m\u001b[0;34m)\u001b[0m\u001b[0;34m\u001b[0m\u001b[0;34m\u001b[0m\u001b[0m\n\u001b[0m\u001b[1;32m    455\u001b[0m \u001b[0;34m\u001b[0m\u001b[0m\n\u001b[1;32m    456\u001b[0m     \u001b[0;32mif\u001b[0m \u001b[0mchunksize\u001b[0m \u001b[0;32mor\u001b[0m \u001b[0miterator\u001b[0m\u001b[0;34m:\u001b[0m\u001b[0;34m\u001b[0m\u001b[0;34m\u001b[0m\u001b[0m\n",
            "\u001b[0;32m/usr/local/lib/python3.7/dist-packages/pandas/io/parsers.py\u001b[0m in \u001b[0;36m__init__\u001b[0;34m(self, f, engine, **kwds)\u001b[0m\n\u001b[1;32m    946\u001b[0m             \u001b[0mself\u001b[0m\u001b[0;34m.\u001b[0m\u001b[0moptions\u001b[0m\u001b[0;34m[\u001b[0m\u001b[0;34m\"has_index_names\"\u001b[0m\u001b[0;34m]\u001b[0m \u001b[0;34m=\u001b[0m \u001b[0mkwds\u001b[0m\u001b[0;34m[\u001b[0m\u001b[0;34m\"has_index_names\"\u001b[0m\u001b[0;34m]\u001b[0m\u001b[0;34m\u001b[0m\u001b[0;34m\u001b[0m\u001b[0m\n\u001b[1;32m    947\u001b[0m \u001b[0;34m\u001b[0m\u001b[0m\n\u001b[0;32m--> 948\u001b[0;31m         \u001b[0mself\u001b[0m\u001b[0;34m.\u001b[0m\u001b[0m_make_engine\u001b[0m\u001b[0;34m(\u001b[0m\u001b[0mself\u001b[0m\u001b[0;34m.\u001b[0m\u001b[0mengine\u001b[0m\u001b[0;34m)\u001b[0m\u001b[0;34m\u001b[0m\u001b[0;34m\u001b[0m\u001b[0m\n\u001b[0m\u001b[1;32m    949\u001b[0m \u001b[0;34m\u001b[0m\u001b[0m\n\u001b[1;32m    950\u001b[0m     \u001b[0;32mdef\u001b[0m \u001b[0mclose\u001b[0m\u001b[0;34m(\u001b[0m\u001b[0mself\u001b[0m\u001b[0;34m)\u001b[0m\u001b[0;34m:\u001b[0m\u001b[0;34m\u001b[0m\u001b[0;34m\u001b[0m\u001b[0m\n",
            "\u001b[0;32m/usr/local/lib/python3.7/dist-packages/pandas/io/parsers.py\u001b[0m in \u001b[0;36m_make_engine\u001b[0;34m(self, engine)\u001b[0m\n\u001b[1;32m   1178\u001b[0m     \u001b[0;32mdef\u001b[0m \u001b[0m_make_engine\u001b[0m\u001b[0;34m(\u001b[0m\u001b[0mself\u001b[0m\u001b[0;34m,\u001b[0m \u001b[0mengine\u001b[0m\u001b[0;34m=\u001b[0m\u001b[0;34m\"c\"\u001b[0m\u001b[0;34m)\u001b[0m\u001b[0;34m:\u001b[0m\u001b[0;34m\u001b[0m\u001b[0;34m\u001b[0m\u001b[0m\n\u001b[1;32m   1179\u001b[0m         \u001b[0;32mif\u001b[0m \u001b[0mengine\u001b[0m \u001b[0;34m==\u001b[0m \u001b[0;34m\"c\"\u001b[0m\u001b[0;34m:\u001b[0m\u001b[0;34m\u001b[0m\u001b[0;34m\u001b[0m\u001b[0m\n\u001b[0;32m-> 1180\u001b[0;31m             \u001b[0mself\u001b[0m\u001b[0;34m.\u001b[0m\u001b[0m_engine\u001b[0m \u001b[0;34m=\u001b[0m \u001b[0mCParserWrapper\u001b[0m\u001b[0;34m(\u001b[0m\u001b[0mself\u001b[0m\u001b[0;34m.\u001b[0m\u001b[0mf\u001b[0m\u001b[0;34m,\u001b[0m \u001b[0;34m**\u001b[0m\u001b[0mself\u001b[0m\u001b[0;34m.\u001b[0m\u001b[0moptions\u001b[0m\u001b[0;34m)\u001b[0m\u001b[0;34m\u001b[0m\u001b[0;34m\u001b[0m\u001b[0m\n\u001b[0m\u001b[1;32m   1181\u001b[0m         \u001b[0;32melse\u001b[0m\u001b[0;34m:\u001b[0m\u001b[0;34m\u001b[0m\u001b[0;34m\u001b[0m\u001b[0m\n\u001b[1;32m   1182\u001b[0m             \u001b[0;32mif\u001b[0m \u001b[0mengine\u001b[0m \u001b[0;34m==\u001b[0m \u001b[0;34m\"python\"\u001b[0m\u001b[0;34m:\u001b[0m\u001b[0;34m\u001b[0m\u001b[0;34m\u001b[0m\u001b[0m\n",
            "\u001b[0;32m/usr/local/lib/python3.7/dist-packages/pandas/io/parsers.py\u001b[0m in \u001b[0;36m__init__\u001b[0;34m(self, src, **kwds)\u001b[0m\n\u001b[1;32m   2008\u001b[0m         \u001b[0mkwds\u001b[0m\u001b[0;34m[\u001b[0m\u001b[0;34m\"usecols\"\u001b[0m\u001b[0;34m]\u001b[0m \u001b[0;34m=\u001b[0m \u001b[0mself\u001b[0m\u001b[0;34m.\u001b[0m\u001b[0musecols\u001b[0m\u001b[0;34m\u001b[0m\u001b[0;34m\u001b[0m\u001b[0m\n\u001b[1;32m   2009\u001b[0m \u001b[0;34m\u001b[0m\u001b[0m\n\u001b[0;32m-> 2010\u001b[0;31m         \u001b[0mself\u001b[0m\u001b[0;34m.\u001b[0m\u001b[0m_reader\u001b[0m \u001b[0;34m=\u001b[0m \u001b[0mparsers\u001b[0m\u001b[0;34m.\u001b[0m\u001b[0mTextReader\u001b[0m\u001b[0;34m(\u001b[0m\u001b[0msrc\u001b[0m\u001b[0;34m,\u001b[0m \u001b[0;34m**\u001b[0m\u001b[0mkwds\u001b[0m\u001b[0;34m)\u001b[0m\u001b[0;34m\u001b[0m\u001b[0;34m\u001b[0m\u001b[0m\n\u001b[0m\u001b[1;32m   2011\u001b[0m         \u001b[0mself\u001b[0m\u001b[0;34m.\u001b[0m\u001b[0munnamed_cols\u001b[0m \u001b[0;34m=\u001b[0m \u001b[0mself\u001b[0m\u001b[0;34m.\u001b[0m\u001b[0m_reader\u001b[0m\u001b[0;34m.\u001b[0m\u001b[0munnamed_cols\u001b[0m\u001b[0;34m\u001b[0m\u001b[0;34m\u001b[0m\u001b[0m\n\u001b[1;32m   2012\u001b[0m \u001b[0;34m\u001b[0m\u001b[0m\n",
            "\u001b[0;32mpandas/_libs/parsers.pyx\u001b[0m in \u001b[0;36mpandas._libs.parsers.TextReader.__cinit__\u001b[0;34m()\u001b[0m\n",
            "\u001b[0;32mpandas/_libs/parsers.pyx\u001b[0m in \u001b[0;36mpandas._libs.parsers.TextReader._setup_parser_source\u001b[0;34m()\u001b[0m\n",
            "\u001b[0;31mFileNotFoundError\u001b[0m: [Errno 2] No such file or directory: 'target_train.csv'"
          ]
        }
      ]
    },
    {
      "cell_type": "code",
      "metadata": {
        "colab": {
          "base_uri": "https://localhost:8080/"
        },
        "id": "WgodrXymLjUo",
        "outputId": "944f498d-c571-4aea-f665-7fd8c9a5938e"
      },
      "source": [
        "prepared_plavki_train = preparation(plavki_train, True)\n",
        "prepared_plavki_test = preparation(plavki_test, False)"
      ],
      "execution_count": null,
      "outputs": [
        {
          "output_type": "stream",
          "name": "stderr",
          "text": [
            "/usr/local/lib/python3.7/dist-packages/ipykernel_launcher.py:8: SettingWithCopyWarning: \n",
            "A value is trying to be set on a copy of a slice from a DataFrame.\n",
            "Try using .loc[row_indexer,col_indexer] = value instead\n",
            "\n",
            "See the caveats in the documentation: https://pandas.pydata.org/pandas-docs/stable/user_guide/indexing.html#returning-a-view-versus-a-copy\n",
            "  \n"
          ]
        }
      ]
    },
    {
      "cell_type": "code",
      "metadata": {
        "id": "axfi7vruLsXk"
      },
      "source": [
        "prepared_plavki_train.to_csv('ready_plavki_train.csv', index=False)\n",
        "prepared_plavki_test.to_csv('ready_plavki_test.csv', index=False)"
      ],
      "execution_count": null,
      "outputs": []
    },
    {
      "cell_type": "code",
      "metadata": {
        "id": "AXCb8gfzcIDt"
      },
      "source": [
        "plavki_train.drop('plavka_ST_GOL', axis=1, inplace=True)"
      ],
      "execution_count": null,
      "outputs": []
    },
    {
      "cell_type": "code",
      "metadata": {
        "colab": {
          "base_uri": "https://localhost:8080/"
        },
        "id": "YNcX8N77QoTz",
        "outputId": "5e063e8b-95f3-4fe6-dbf3-582e7a5ae79e"
      },
      "source": [
        "plavki_train.dtypes"
      ],
      "execution_count": null,
      "outputs": [
        {
          "output_type": "execute_result",
          "data": {
            "text/plain": [
              "NPLV                int64\n",
              "plavka_VR_NACH     object\n",
              "plavka_VR_KON      object\n",
              "plavka_NMZ         object\n",
              "plavka_NAPR_ZAD    object\n",
              "plavka_STFUT        int64\n",
              "plavka_TIPE_FUR    object\n",
              "plavka_ST_FURM      int64\n",
              "plavka_TIPE_GOL    object\n",
              "dtype: object"
            ]
          },
          "metadata": {},
          "execution_count": 456
        }
      ]
    },
    {
      "cell_type": "code",
      "metadata": {
        "id": "ugIkCy0AQ-sk"
      },
      "source": [
        "plavki_train['plavka_VR_NACH'], plavki_train['plavka_VR_KON'] = pd.to_datetime(plavki_train['plavka_VR_NACH']), pd.to_datetime(plavki_train['plavka_VR_KON'])"
      ],
      "execution_count": null,
      "outputs": []
    },
    {
      "cell_type": "code",
      "metadata": {
        "colab": {
          "base_uri": "https://localhost:8080/"
        },
        "id": "gunrTADtRUHs",
        "outputId": "d801dfaf-cf4c-4a42-d8da-04a820ae29fa"
      },
      "source": [
        "plavki_train.dtypes"
      ],
      "execution_count": null,
      "outputs": [
        {
          "output_type": "execute_result",
          "data": {
            "text/plain": [
              "NPLV                        int64\n",
              "plavka_VR_NACH     datetime64[ns]\n",
              "plavka_VR_KON      datetime64[ns]\n",
              "plavka_NMZ                 object\n",
              "plavka_NAPR_ZAD            object\n",
              "plavka_STFUT                int64\n",
              "plavka_TIPE_FUR            object\n",
              "plavka_ST_FURM              int64\n",
              "plavka_TIPE_GOL            object\n",
              "dtype: object"
            ]
          },
          "metadata": {},
          "execution_count": 458
        }
      ]
    },
    {
      "cell_type": "code",
      "metadata": {
        "id": "fWsIxEfGRVXZ"
      },
      "source": [
        "plavki_train['seconds_of_plavka'] = (plavki_train['plavka_VR_KON'] -  plavki_train['plavka_VR_NACH']).dt.seconds"
      ],
      "execution_count": null,
      "outputs": []
    },
    {
      "cell_type": "markdown",
      "metadata": {
        "id": "Rb2Z6lt6dGSR"
      },
      "source": [
        "<font size=6 color='red'>*Найдены ошибки в данных, замена почти повторяющихся строк с id=511135.*"
      ]
    },
    {
      "cell_type": "code",
      "metadata": {
        "colab": {
          "base_uri": "https://localhost:8080/"
        },
        "id": "Vinzk6HqR1Nc",
        "outputId": "3a91a9f4-ca63-4e9b-cc93-ac9ee061b7be"
      },
      "source": [
        "plavki_train.NPLV.value_counts().sort_values()"
      ],
      "execution_count": null,
      "outputs": [
        {
          "output_type": "execute_result",
          "data": {
            "text/plain": [
              "511983     1\n",
              "511982     1\n",
              "511980     1\n",
              "511978     1\n",
              "511976     1\n",
              "          ..\n",
              "512006     1\n",
              "512038     1\n",
              "510019     1\n",
              "512178     1\n",
              "511135    75\n",
              "Name: NPLV, Length: 2063, dtype: int64"
            ]
          },
          "metadata": {},
          "execution_count": 460
        }
      ]
    },
    {
      "cell_type": "code",
      "metadata": {
        "colab": {
          "base_uri": "https://localhost:8080/",
          "height": 307
        },
        "id": "Gbct1GoTZ1Y8",
        "outputId": "32b0d1e4-7371-474c-b670-bc9eaf3e46ae"
      },
      "source": [
        "plavki_train.head()"
      ],
      "execution_count": null,
      "outputs": [
        {
          "output_type": "execute_result",
          "data": {
            "text/html": [
              "<div>\n",
              "<style scoped>\n",
              "    .dataframe tbody tr th:only-of-type {\n",
              "        vertical-align: middle;\n",
              "    }\n",
              "\n",
              "    .dataframe tbody tr th {\n",
              "        vertical-align: top;\n",
              "    }\n",
              "\n",
              "    .dataframe thead th {\n",
              "        text-align: right;\n",
              "    }\n",
              "</style>\n",
              "<table border=\"1\" class=\"dataframe\">\n",
              "  <thead>\n",
              "    <tr style=\"text-align: right;\">\n",
              "      <th></th>\n",
              "      <th>NPLV</th>\n",
              "      <th>plavka_VR_NACH</th>\n",
              "      <th>plavka_VR_KON</th>\n",
              "      <th>plavka_NMZ</th>\n",
              "      <th>plavka_NAPR_ZAD</th>\n",
              "      <th>plavka_STFUT</th>\n",
              "      <th>plavka_TIPE_FUR</th>\n",
              "      <th>plavka_ST_FURM</th>\n",
              "      <th>plavka_TIPE_GOL</th>\n",
              "      <th>seconds_of_plavka</th>\n",
              "    </tr>\n",
              "  </thead>\n",
              "  <tbody>\n",
              "    <tr>\n",
              "      <th>0</th>\n",
              "      <td>510008</td>\n",
              "      <td>2021-01-01 03:08:11</td>\n",
              "      <td>2021-01-01 03:51:10</td>\n",
              "      <td>С255</td>\n",
              "      <td>МНЛЗ</td>\n",
              "      <td>971</td>\n",
              "      <td>цилиндрическая</td>\n",
              "      <td>11</td>\n",
              "      <td>5 сопловая</td>\n",
              "      <td>2579</td>\n",
              "    </tr>\n",
              "    <tr>\n",
              "      <th>1</th>\n",
              "      <td>510009</td>\n",
              "      <td>2021-01-01 04:00:44</td>\n",
              "      <td>2021-01-01 05:07:28</td>\n",
              "      <td>С255</td>\n",
              "      <td>МНЛЗ</td>\n",
              "      <td>972</td>\n",
              "      <td>цилиндрическая</td>\n",
              "      <td>12</td>\n",
              "      <td>5 сопловая</td>\n",
              "      <td>4004</td>\n",
              "    </tr>\n",
              "    <tr>\n",
              "      <th>2</th>\n",
              "      <td>510010</td>\n",
              "      <td>2021-01-01 05:12:29</td>\n",
              "      <td>2021-01-01 06:00:53</td>\n",
              "      <td>Ст3пс/Э</td>\n",
              "      <td>Изл</td>\n",
              "      <td>973</td>\n",
              "      <td>цилиндрическая</td>\n",
              "      <td>13</td>\n",
              "      <td>5 сопловая</td>\n",
              "      <td>2904</td>\n",
              "    </tr>\n",
              "    <tr>\n",
              "      <th>3</th>\n",
              "      <td>510011</td>\n",
              "      <td>2021-01-01 06:13:48</td>\n",
              "      <td>2021-01-01 07:08:39</td>\n",
              "      <td>Св-08А.z02</td>\n",
              "      <td>Изл</td>\n",
              "      <td>974</td>\n",
              "      <td>цилиндрическая</td>\n",
              "      <td>14</td>\n",
              "      <td>5 сопловая</td>\n",
              "      <td>3291</td>\n",
              "    </tr>\n",
              "    <tr>\n",
              "      <th>4</th>\n",
              "      <td>510012</td>\n",
              "      <td>2021-01-01 07:13:44</td>\n",
              "      <td>2021-01-01 08:01:59</td>\n",
              "      <td>SC2M/ЭТ</td>\n",
              "      <td>МНЛС</td>\n",
              "      <td>975</td>\n",
              "      <td>цилиндрическая</td>\n",
              "      <td>15</td>\n",
              "      <td>5 сопловая</td>\n",
              "      <td>2895</td>\n",
              "    </tr>\n",
              "  </tbody>\n",
              "</table>\n",
              "</div>"
            ],
            "text/plain": [
              "     NPLV      plavka_VR_NACH  ...       plavka_TIPE_GOL seconds_of_plavka\n",
              "0  510008 2021-01-01 03:08:11  ...  5 сопловая                        2579\n",
              "1  510009 2021-01-01 04:00:44  ...  5 сопловая                        4004\n",
              "2  510010 2021-01-01 05:12:29  ...  5 сопловая                        2904\n",
              "3  510011 2021-01-01 06:13:48  ...  5 сопловая                        3291\n",
              "4  510012 2021-01-01 07:13:44  ...  5 сопловая                        2895\n",
              "\n",
              "[5 rows x 10 columns]"
            ]
          },
          "metadata": {},
          "execution_count": 461
        }
      ]
    },
    {
      "cell_type": "code",
      "metadata": {
        "id": "tWwCGvm0cc5a"
      },
      "source": [
        "plavka_511135 = plavki_train[plavki_train['NPLV'] == 511135]"
      ],
      "execution_count": null,
      "outputs": []
    },
    {
      "cell_type": "code",
      "metadata": {
        "colab": {
          "base_uri": "https://localhost:8080/"
        },
        "id": "iMrHM_YbclwC",
        "outputId": "a9cfea43-18e9-47e2-afaa-020d8a5206b6"
      },
      "source": [
        "plavka_511135['plavka_ST_FURM'] = int(plavka_511135['plavka_ST_FURM'].median())"
      ],
      "execution_count": null,
      "outputs": [
        {
          "output_type": "stream",
          "name": "stderr",
          "text": [
            "/usr/local/lib/python3.7/dist-packages/ipykernel_launcher.py:1: SettingWithCopyWarning: \n",
            "A value is trying to be set on a copy of a slice from a DataFrame.\n",
            "Try using .loc[row_indexer,col_indexer] = value instead\n",
            "\n",
            "See the caveats in the documentation: https://pandas.pydata.org/pandas-docs/stable/user_guide/indexing.html#returning-a-view-versus-a-copy\n",
            "  \"\"\"Entry point for launching an IPython kernel.\n"
          ]
        }
      ]
    },
    {
      "cell_type": "code",
      "metadata": {
        "id": "zRku0Rmvcyma"
      },
      "source": [
        "plavki_train[plavki_train['NPLV'] == 511135] = plavka_511135"
      ],
      "execution_count": null,
      "outputs": []
    },
    {
      "cell_type": "code",
      "metadata": {
        "id": "KqCZye3bc767"
      },
      "source": [
        "plavki_train.drop_duplicates(inplace=True)"
      ],
      "execution_count": null,
      "outputs": []
    },
    {
      "cell_type": "code",
      "metadata": {
        "colab": {
          "base_uri": "https://localhost:8080/"
        },
        "id": "8wh_1-8Kc_MU",
        "outputId": "c258a6d1-c8a8-493b-d39a-a04a5d8c5af9"
      },
      "source": [
        "plavki_train.shape"
      ],
      "execution_count": null,
      "outputs": [
        {
          "output_type": "execute_result",
          "data": {
            "text/plain": [
              "(2063, 10)"
            ]
          },
          "metadata": {},
          "execution_count": 466
        }
      ]
    },
    {
      "cell_type": "code",
      "metadata": {
        "colab": {
          "base_uri": "https://localhost:8080/",
          "height": 307
        },
        "id": "bpJBOyRAdA0V",
        "outputId": "0cd35b80-8f51-4b2a-c678-2966ce2653f5"
      },
      "source": [
        "plavki_train.head()"
      ],
      "execution_count": null,
      "outputs": [
        {
          "output_type": "execute_result",
          "data": {
            "text/html": [
              "<div>\n",
              "<style scoped>\n",
              "    .dataframe tbody tr th:only-of-type {\n",
              "        vertical-align: middle;\n",
              "    }\n",
              "\n",
              "    .dataframe tbody tr th {\n",
              "        vertical-align: top;\n",
              "    }\n",
              "\n",
              "    .dataframe thead th {\n",
              "        text-align: right;\n",
              "    }\n",
              "</style>\n",
              "<table border=\"1\" class=\"dataframe\">\n",
              "  <thead>\n",
              "    <tr style=\"text-align: right;\">\n",
              "      <th></th>\n",
              "      <th>NPLV</th>\n",
              "      <th>plavka_VR_NACH</th>\n",
              "      <th>plavka_VR_KON</th>\n",
              "      <th>plavka_NMZ</th>\n",
              "      <th>plavka_NAPR_ZAD</th>\n",
              "      <th>plavka_STFUT</th>\n",
              "      <th>plavka_TIPE_FUR</th>\n",
              "      <th>plavka_ST_FURM</th>\n",
              "      <th>plavka_TIPE_GOL</th>\n",
              "      <th>seconds_of_plavka</th>\n",
              "    </tr>\n",
              "  </thead>\n",
              "  <tbody>\n",
              "    <tr>\n",
              "      <th>0</th>\n",
              "      <td>510008</td>\n",
              "      <td>2021-01-01 03:08:11</td>\n",
              "      <td>2021-01-01 03:51:10</td>\n",
              "      <td>С255</td>\n",
              "      <td>МНЛЗ</td>\n",
              "      <td>971</td>\n",
              "      <td>цилиндрическая</td>\n",
              "      <td>11</td>\n",
              "      <td>5 сопловая</td>\n",
              "      <td>2579</td>\n",
              "    </tr>\n",
              "    <tr>\n",
              "      <th>1</th>\n",
              "      <td>510009</td>\n",
              "      <td>2021-01-01 04:00:44</td>\n",
              "      <td>2021-01-01 05:07:28</td>\n",
              "      <td>С255</td>\n",
              "      <td>МНЛЗ</td>\n",
              "      <td>972</td>\n",
              "      <td>цилиндрическая</td>\n",
              "      <td>12</td>\n",
              "      <td>5 сопловая</td>\n",
              "      <td>4004</td>\n",
              "    </tr>\n",
              "    <tr>\n",
              "      <th>2</th>\n",
              "      <td>510010</td>\n",
              "      <td>2021-01-01 05:12:29</td>\n",
              "      <td>2021-01-01 06:00:53</td>\n",
              "      <td>Ст3пс/Э</td>\n",
              "      <td>Изл</td>\n",
              "      <td>973</td>\n",
              "      <td>цилиндрическая</td>\n",
              "      <td>13</td>\n",
              "      <td>5 сопловая</td>\n",
              "      <td>2904</td>\n",
              "    </tr>\n",
              "    <tr>\n",
              "      <th>3</th>\n",
              "      <td>510011</td>\n",
              "      <td>2021-01-01 06:13:48</td>\n",
              "      <td>2021-01-01 07:08:39</td>\n",
              "      <td>Св-08А.z02</td>\n",
              "      <td>Изл</td>\n",
              "      <td>974</td>\n",
              "      <td>цилиндрическая</td>\n",
              "      <td>14</td>\n",
              "      <td>5 сопловая</td>\n",
              "      <td>3291</td>\n",
              "    </tr>\n",
              "    <tr>\n",
              "      <th>4</th>\n",
              "      <td>510012</td>\n",
              "      <td>2021-01-01 07:13:44</td>\n",
              "      <td>2021-01-01 08:01:59</td>\n",
              "      <td>SC2M/ЭТ</td>\n",
              "      <td>МНЛС</td>\n",
              "      <td>975</td>\n",
              "      <td>цилиндрическая</td>\n",
              "      <td>15</td>\n",
              "      <td>5 сопловая</td>\n",
              "      <td>2895</td>\n",
              "    </tr>\n",
              "  </tbody>\n",
              "</table>\n",
              "</div>"
            ],
            "text/plain": [
              "     NPLV      plavka_VR_NACH  ...       plavka_TIPE_GOL seconds_of_plavka\n",
              "0  510008 2021-01-01 03:08:11  ...  5 сопловая                        2579\n",
              "1  510009 2021-01-01 04:00:44  ...  5 сопловая                        4004\n",
              "2  510010 2021-01-01 05:12:29  ...  5 сопловая                        2904\n",
              "3  510011 2021-01-01 06:13:48  ...  5 сопловая                        3291\n",
              "4  510012 2021-01-01 07:13:44  ...  5 сопловая                        2895\n",
              "\n",
              "[5 rows x 10 columns]"
            ]
          },
          "metadata": {},
          "execution_count": 467
        }
      ]
    },
    {
      "cell_type": "markdown",
      "metadata": {
        "id": "ub3zNWTIe7Fg"
      },
      "source": [
        "<font size=5> Кодирование категориальных признаков"
      ]
    },
    {
      "cell_type": "code",
      "metadata": {
        "colab": {
          "base_uri": "https://localhost:8080/"
        },
        "id": "fysC-Pebdpcg",
        "outputId": "9a7165a8-0462-4d15-f8c9-7a9ec8919ab3"
      },
      "source": [
        "plavki_train.nunique()"
      ],
      "execution_count": null,
      "outputs": [
        {
          "output_type": "execute_result",
          "data": {
            "text/plain": [
              "NPLV                 2063\n",
              "plavka_VR_NACH       2063\n",
              "plavka_VR_KON        2063\n",
              "plavka_NMZ             66\n",
              "plavka_NAPR_ZAD         3\n",
              "plavka_STFUT         2063\n",
              "plavka_TIPE_FUR         2\n",
              "plavka_ST_FURM        323\n",
              "plavka_TIPE_GOL         4\n",
              "seconds_of_plavka    1225\n",
              "dtype: int64"
            ]
          },
          "metadata": {},
          "execution_count": 468
        }
      ]
    },
    {
      "cell_type": "code",
      "metadata": {
        "id": "SPKLLdNueZY9"
      },
      "source": [
        "le = LabelEncoder()\n",
        "ohe = OneHotEncoder()"
      ],
      "execution_count": null,
      "outputs": []
    },
    {
      "cell_type": "code",
      "metadata": {
        "id": "OfF2sMADfXD0"
      },
      "source": [
        "dummy_features = ['plavka_TIPE_GOL', 'plavka_NAPR_ZAD', 'plavka_TIPE_FUR']\n",
        "label_features = ['plavka_NMZ']\n",
        "\n",
        "for feat in dummy_features:\n",
        "  data_temp = pd.get_dummies(plavki_train[feat], drop_first=True)\n",
        "  plavki_train.drop(feat, axis=1, inplace=True)\n",
        "  data_temp.columns = [feat + '_' + str(col) for col in list(data_temp)]\n",
        "  plavki_train = pd.concat([plavki_train, data_temp], axis=1)\n",
        "\n",
        "for label_feature in label_features:\n",
        "  plavki_train[label_feature] = le.fit_transform(plavki_train[label_feature])"
      ],
      "execution_count": null,
      "outputs": []
    },
    {
      "cell_type": "code",
      "metadata": {
        "id": "eMh_QTvzgNTz"
      },
      "source": [
        "plavki_train.drop(['plavka_VR_NACH', 'plavka_VR_KON'], axis=1,inplace=True)"
      ],
      "execution_count": null,
      "outputs": []
    },
    {
      "cell_type": "code",
      "metadata": {
        "colab": {
          "base_uri": "https://localhost:8080/"
        },
        "id": "9CgDlfg6pNEY",
        "outputId": "b37ddd10-e958-40d3-f8ee-8e3ff28b0815"
      },
      "source": [
        "plavki_train.dtypes"
      ],
      "execution_count": null,
      "outputs": [
        {
          "output_type": "execute_result",
          "data": {
            "text/plain": [
              "NPLV                                    int64\n",
              "plavka_NMZ                              int64\n",
              "plavka_STFUT                            int64\n",
              "plavka_ST_FURM                          int64\n",
              "seconds_of_plavka                       int64\n",
              "plavka_TIPE_GOL_4-сопл х54              uint8\n",
              "plavka_TIPE_GOL_5 сопловая              uint8\n",
              "plavka_TIPE_GOL_Э, 4-сопл х54           uint8\n",
              "plavka_NAPR_ZAD_МНЛЗ                    uint8\n",
              "plavka_NAPR_ZAD_МНЛС                    uint8\n",
              "plavka_TIPE_FUR_цилиндрическая          uint8\n",
              "dtype: object"
            ]
          },
          "metadata": {},
          "execution_count": 472
        }
      ]
    },
    {
      "cell_type": "code",
      "metadata": {
        "colab": {
          "base_uri": "https://localhost:8080/",
          "height": 240
        },
        "id": "iBv2NBZal1z1",
        "outputId": "aca7896f-7e5c-4c75-ab2d-68bb7ed4525e"
      },
      "source": [
        "plavki_train.head()"
      ],
      "execution_count": null,
      "outputs": [
        {
          "output_type": "execute_result",
          "data": {
            "text/html": [
              "<div>\n",
              "<style scoped>\n",
              "    .dataframe tbody tr th:only-of-type {\n",
              "        vertical-align: middle;\n",
              "    }\n",
              "\n",
              "    .dataframe tbody tr th {\n",
              "        vertical-align: top;\n",
              "    }\n",
              "\n",
              "    .dataframe thead th {\n",
              "        text-align: right;\n",
              "    }\n",
              "</style>\n",
              "<table border=\"1\" class=\"dataframe\">\n",
              "  <thead>\n",
              "    <tr style=\"text-align: right;\">\n",
              "      <th></th>\n",
              "      <th>NPLV</th>\n",
              "      <th>plavka_NMZ</th>\n",
              "      <th>plavka_STFUT</th>\n",
              "      <th>plavka_ST_FURM</th>\n",
              "      <th>seconds_of_plavka</th>\n",
              "      <th>plavka_TIPE_GOL_4-сопл х54</th>\n",
              "      <th>plavka_TIPE_GOL_5 сопловая</th>\n",
              "      <th>plavka_TIPE_GOL_Э, 4-сопл х54</th>\n",
              "      <th>plavka_NAPR_ZAD_МНЛЗ</th>\n",
              "      <th>plavka_NAPR_ZAD_МНЛС</th>\n",
              "      <th>plavka_TIPE_FUR_цилиндрическая</th>\n",
              "    </tr>\n",
              "  </thead>\n",
              "  <tbody>\n",
              "    <tr>\n",
              "      <th>0</th>\n",
              "      <td>510008</td>\n",
              "      <td>42</td>\n",
              "      <td>971</td>\n",
              "      <td>11</td>\n",
              "      <td>2579</td>\n",
              "      <td>0</td>\n",
              "      <td>1</td>\n",
              "      <td>0</td>\n",
              "      <td>1</td>\n",
              "      <td>0</td>\n",
              "      <td>1</td>\n",
              "    </tr>\n",
              "    <tr>\n",
              "      <th>1</th>\n",
              "      <td>510009</td>\n",
              "      <td>42</td>\n",
              "      <td>972</td>\n",
              "      <td>12</td>\n",
              "      <td>4004</td>\n",
              "      <td>0</td>\n",
              "      <td>1</td>\n",
              "      <td>0</td>\n",
              "      <td>1</td>\n",
              "      <td>0</td>\n",
              "      <td>1</td>\n",
              "    </tr>\n",
              "    <tr>\n",
              "      <th>2</th>\n",
              "      <td>510010</td>\n",
              "      <td>58</td>\n",
              "      <td>973</td>\n",
              "      <td>13</td>\n",
              "      <td>2904</td>\n",
              "      <td>0</td>\n",
              "      <td>1</td>\n",
              "      <td>0</td>\n",
              "      <td>0</td>\n",
              "      <td>0</td>\n",
              "      <td>1</td>\n",
              "    </tr>\n",
              "    <tr>\n",
              "      <th>3</th>\n",
              "      <td>510011</td>\n",
              "      <td>48</td>\n",
              "      <td>974</td>\n",
              "      <td>14</td>\n",
              "      <td>3291</td>\n",
              "      <td>0</td>\n",
              "      <td>1</td>\n",
              "      <td>0</td>\n",
              "      <td>0</td>\n",
              "      <td>0</td>\n",
              "      <td>1</td>\n",
              "    </tr>\n",
              "    <tr>\n",
              "      <th>4</th>\n",
              "      <td>510012</td>\n",
              "      <td>38</td>\n",
              "      <td>975</td>\n",
              "      <td>15</td>\n",
              "      <td>2895</td>\n",
              "      <td>0</td>\n",
              "      <td>1</td>\n",
              "      <td>0</td>\n",
              "      <td>0</td>\n",
              "      <td>1</td>\n",
              "      <td>1</td>\n",
              "    </tr>\n",
              "  </tbody>\n",
              "</table>\n",
              "</div>"
            ],
            "text/plain": [
              "     NPLV  plavka_NMZ  ...  plavka_NAPR_ZAD_МНЛС  plavka_TIPE_FUR_цилиндрическая\n",
              "0  510008          42  ...                     0                               1\n",
              "1  510009          42  ...                     0                               1\n",
              "2  510010          58  ...                     0                               1\n",
              "3  510011          48  ...                     0                               1\n",
              "4  510012          38  ...                     1                               1\n",
              "\n",
              "[5 rows x 11 columns]"
            ]
          },
          "metadata": {},
          "execution_count": 473
        }
      ]
    },
    {
      "cell_type": "markdown",
      "metadata": {
        "id": "30T8fD4_rSk5"
      },
      "source": [
        "<font size=5> DONEEEEE!!!!!"
      ]
    },
    {
      "cell_type": "markdown",
      "metadata": {
        "id": "D3oosppC9zXq"
      },
      "source": [
        "# GAS"
      ]
    },
    {
      "cell_type": "code",
      "metadata": {
        "id": "av1Myvn2dqD5"
      },
      "source": [
        "def extract_gas(raw_data):\n",
        "    data = raw_data.copy()\n",
        "    id = 'NPLV'\n",
        "    \n",
        "    rename_cols = {'T фурмы 2': 'tf2', 'T фурмы 1': 'tf1'}\n",
        "    data.rename(columns=rename_cols, inplace=True)\n",
        "    \n",
        "    gases = ['AR', 'CO', 'CO2', 'H2', 'N2', 'O2']\n",
        "    commons = ['O2_pressure', 'tf1', 'tf2', 'T']\n",
        "    vcol = ['V']\n",
        "    timecol = ['Time']\n",
        "    allcols = gases + commons + vcol\n",
        "    \n",
        "    data[allcols] = data[allcols].astype('float32')\n",
        "    \n",
        "    data_max = data.groupby(id).max()[commons]\n",
        "    data_last = data.groupby(id).last()[allcols+timecol]\n",
        "    data_first = data.groupby(id).first()[commons+vcol+timecol]\n",
        "    \n",
        "    data_diff = data_last[vcol+commons+timecol] - data_first[vcol+commons+timecol]\n",
        "    data_diff['Time'] = data_diff['Time'].astype('timedelta64[s]')\n",
        "    \n",
        "    data = data.join(data_last, rsuffix='_last')\n",
        "    \n",
        "    data['duration'] = (data['Time_last'] - data['Time']).astype('timedelta64[s]')\n",
        "    for i in [1, 5, 10, 30]:\n",
        "        for col in allcols:\n",
        "            data[f'dur_{i}_{col}_sum'] = data[col].mask(data['duration'] > 60*i, 0)\n",
        "            \n",
        "    allaggs = [f'dur_{i}_{col}_sum' for col in allcols for i in [1, 5, 10, 30]] + allcols\n",
        "    data_agg = data[allaggs].groupby(id).sum()\n",
        "    for i in [1, 5, 10, 30]:\n",
        "        for col in allcols:\n",
        "            data_agg[f'dur_{i}_{col}_mean'] = data_agg[f'dur_{i}_{col}_sum'] / (i*60)\n",
        "            \n",
        "    for col in allcols:\n",
        "        data_agg[f'dur_all_{col}_sum'] = data_agg[col]\n",
        "        data_agg[f'dur_all_{col}_mean'] = data_agg[f'dur_all_{col}_sum'] / data_diff['Time']\n",
        "    \n",
        "    dropaggs = [f'dur_{i}_{col}_sum' for col in commons for i in [1, 5, 10, 30]]\n",
        "    data_agg.drop(dropaggs, axis=1, inplace=True)\n",
        "    \n",
        "    all_data = data_agg.join(data_max, rsuffix='_max')\n",
        "    all_data = all_data.join(data_last, rsuffix='_last')\n",
        "    all_data = all_data.join(data_diff, rsuffix='_diff')\n",
        "    \n",
        "    all_data.drop(allcols+timecol, axis=1, inplace=True)\n",
        "    \n",
        "    return all_data"
      ],
      "execution_count": null,
      "outputs": []
    }
  ]
}
