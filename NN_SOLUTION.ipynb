{
  "nbformat": 4,
  "nbformat_minor": 5,
  "metadata": {
    "kernelspec": {
      "display_name": "Python 3 (ipykernel)",
      "language": "python",
      "name": "python3"
    },
    "language_info": {
      "codemirror_mode": {
        "name": "ipython",
        "version": 3
      },
      "file_extension": ".py",
      "mimetype": "text/x-python",
      "name": "python",
      "nbconvert_exporter": "python",
      "pygments_lexer": "ipython3",
      "version": "3.9.7"
    },
    "colab": {
      "name": "NN_SOLUTION.ipynb",
      "provenance": []
    },
    "accelerator": "GPU"
  },
  "cells": [
    {
      "cell_type": "code",
      "metadata": {
        "id": "ts24T2QWRSor"
      },
      "source": [
        "!pip install -qqq catboost"
      ],
      "id": "ts24T2QWRSor",
      "execution_count": null,
      "outputs": []
    },
    {
      "cell_type": "code",
      "metadata": {
        "id": "3cb6fda2-abe7-46a0-a9e9-9a35ee0dfbe5"
      },
      "source": [
        "import os\n",
        "from time import time\n",
        "import pandas as pd\n",
        "import numpy as np\n",
        "import matplotlib.pyplot as plt\n",
        "from copy import deepcopy\n",
        "from sklearn.preprocessing import MinMaxScaler\n",
        "from sklearn.model_selection import train_test_split, GridSearchCV\n",
        "from catboost import CatBoostRegressor"
      ],
      "id": "3cb6fda2-abe7-46a0-a9e9-9a35ee0dfbe5",
      "execution_count": null,
      "outputs": []
    },
    {
      "cell_type": "code",
      "metadata": {
        "id": "b698a6ab-0989-406c-9377-41dffd8e2bc0"
      },
      "source": [
        "gas = gas_test.iloc[:10000]"
      ],
      "id": "b698a6ab-0989-406c-9377-41dffd8e2bc0",
      "execution_count": null,
      "outputs": []
    },
    {
      "cell_type": "code",
      "metadata": {
        "id": "e69b32d7-4a85-4aca-a334-30a44a20a23f"
      },
      "source": [
        "id = 'NPLV'"
      ],
      "id": "e69b32d7-4a85-4aca-a334-30a44a20a23f",
      "execution_count": null,
      "outputs": []
    },
    {
      "cell_type": "code",
      "metadata": {
        "id": "3c4ddc7d-2a25-4670-b316-1afd98c78db2"
      },
      "source": [
        "produv_ready_test = extract_produv(produv_or)"
      ],
      "id": "3c4ddc7d-2a25-4670-b316-1afd98c78db2",
      "execution_count": null,
      "outputs": []
    },
    {
      "cell_type": "code",
      "metadata": {
        "id": "7358160f-76b1-432e-af50-9c239da0db92"
      },
      "source": [
        "produv_ready_train = extract_produv(produv_or_train)"
      ],
      "id": "7358160f-76b1-432e-af50-9c239da0db92",
      "execution_count": null,
      "outputs": []
    },
    {
      "cell_type": "code",
      "metadata": {
        "id": "74ae2a81-b84e-4b9e-8b45-14bf1050632c"
      },
      "source": [
        "# gas_test = pd.read_csv('ready_gas_test.csv', index_col='NPLV')\n",
        "# gas_train = pd.read_csv('ready_gas_train.csv', index_col='NPLV')\n",
        "target = pd.read_csv('target_train.csv', index_col='NPLV').fillna(0)"
      ],
      "id": "74ae2a81-b84e-4b9e-8b45-14bf1050632c",
      "execution_count": null,
      "outputs": []
    },
    {
      "cell_type": "code",
      "metadata": {
        "id": "6kvEhvsxeVi2"
      },
      "source": [
        "class Params:\n",
        "  depth = 3\n",
        "  iter = 2000\n",
        "  lr = 0.1\n",
        "  l2_reg = 3\n",
        "params = Params()"
      ],
      "id": "6kvEhvsxeVi2",
      "execution_count": null,
      "outputs": []
    },
    {
      "cell_type": "code",
      "metadata": {
        "id": "sx3mgxqOpIfR"
      },
      "source": [
        "def prod_train(data_train, data_test, target):\n",
        "  cat_tst = CatBoostRegressor(\n",
        "    iterations=2000,\n",
        "    depth=7,\n",
        "    learning_rate=0.1,\n",
        "    l2_leaf_reg=3,\n",
        "    random_seed=42\n",
        "  )\n",
        "  cat_c = CatBoostRegressor(\n",
        "    iterations=2000,\n",
        "    depth=3,\n",
        "    learning_rate=0.1,\n",
        "    l2_leaf_reg=3,\n",
        "    random_seed=42\n",
        "  )\n",
        "\n",
        "  cat_tst.fit(data_train, target['TST'], verbose=False)\n",
        "  cat_c.fit(data_train, target['C'], verbose=False)\n",
        "\n",
        "  preds_tst = cat_tst.predict(data_test)\n",
        "  preds_c = cat_c.predict(data_test)\n",
        "  preds = pd.DataFrame({'NPLV': data_test.index, 'C' : preds_c, 'TST' : preds_tst})\n",
        "\n",
        "  return preds"
      ],
      "id": "sx3mgxqOpIfR",
      "execution_count": null,
      "outputs": []
    },
    {
      "cell_type": "code",
      "metadata": {
        "id": "y_ms_vAaRcqP"
      },
      "source": [
        "gas_test = pd.read_csv('ready_gas_test.csv', index_col='NPLV')\n",
        "gas_train = pd.read_csv('ready_gas_train.csv', index_col='NPLV')"
      ],
      "id": "y_ms_vAaRcqP",
      "execution_count": null,
      "outputs": []
    },
    {
      "cell_type": "code",
      "metadata": {
        "id": "4ralCv_DufbI"
      },
      "source": [
        "produv_test = pd.read_csv('produv_test.csv', index_col='NPLV')\n",
        "produv_train = pd.read_csv('produv_train.csv', index_col='NPLV')"
      ],
      "id": "4ralCv_DufbI",
      "execution_count": null,
      "outputs": []
    },
    {
      "cell_type": "code",
      "metadata": {
        "id": "wXwzty_QupON"
      },
      "source": [
        "my_train = gas_train.join(produv_train)\n",
        "my_test = gas_test.join(produv_test)"
      ],
      "id": "wXwzty_QupON",
      "execution_count": null,
      "outputs": []
    },
    {
      "cell_type": "code",
      "metadata": {
        "id": "mRxi_S3eQfzf"
      },
      "source": [
        "sip_test = pd.read_csv('sip_test.csv', index_col='NPLV')\n",
        "sip_train = pd.read_csv('sip_train.csv', index_col='NPLV')"
      ],
      "id": "mRxi_S3eQfzf",
      "execution_count": null,
      "outputs": []
    },
    {
      "cell_type": "code",
      "metadata": {
        "id": "XwicpheeTrE5"
      },
      "source": [
        "plavki_test = pd.read_csv('plavki_test.csv', index_col='NPLV')\n",
        "plavki_train = pd.read_csv('plavki_train.csv', index_col='NPLV')"
      ],
      "id": "XwicpheeTrE5",
      "execution_count": null,
      "outputs": []
    },
    {
      "cell_type": "code",
      "metadata": {
        "id": "HICpEmjeQ6xW"
      },
      "source": [
        "train = my_train.join(sip_train).join(plavki_train)\n",
        "test = my_test.join(sip_test).join(plavki_test)"
      ],
      "id": "HICpEmjeQ6xW",
      "execution_count": null,
      "outputs": []
    },
    {
      "cell_type": "code",
      "metadata": {
        "id": "3t0l8juWXIJK"
      },
      "source": [
        "train.to_csv('train.csv')\n",
        "test.to_csv('test.csv')"
      ],
      "id": "3t0l8juWXIJK",
      "execution_count": null,
      "outputs": []
    },
    {
      "cell_type": "code",
      "metadata": {
        "id": "NGPppeYaeCpE"
      },
      "source": [
        "top40 = pd.read_csv('features.csv').iloc[:30]['cols']\n",
        "test_all = pd.read_csv('test_all.csv', index_col='NPLV')#[top40]\n",
        "train_all = pd.read_csv('train_all.csv', index_col='NPLV')#[top40]\n",
        "target = pd.read_csv('target_train.csv', index_col='NPLV').fillna(0)"
      ],
      "id": "NGPppeYaeCpE",
      "execution_count": null,
      "outputs": []
    },
    {
      "cell_type": "code",
      "metadata": {
        "id": "9oleM6y9R0p8"
      },
      "source": [
        "o_train = train_all.iloc[:, 58:]\n",
        "o_test = test_all.iloc[:, 58:]"
      ],
      "id": "9oleM6y9R0p8",
      "execution_count": null,
      "outputs": []
    },
    {
      "cell_type": "code",
      "metadata": {
        "id": "E-H4BQ6kSvx8"
      },
      "source": [
        "train = my_train.join(o_train)\n",
        "test = my_test.join(o_test)"
      ],
      "id": "E-H4BQ6kSvx8",
      "execution_count": null,
      "outputs": []
    },
    {
      "cell_type": "code",
      "metadata": {
        "id": "-bZ7FyajNh-K"
      },
      "source": [
        "tt = train.append(test)"
      ],
      "id": "-bZ7FyajNh-K",
      "execution_count": null,
      "outputs": []
    },
    {
      "cell_type": "code",
      "metadata": {
        "id": "-myJUl4uNotc"
      },
      "source": [
        "scaler = MinMaxScaler()\n",
        "scaler.fit(tt)\n",
        "train[:] = scaler.transform(train)\n",
        "test[:] = scaler.transform(test)"
      ],
      "id": "-myJUl4uNotc",
      "execution_count": null,
      "outputs": []
    },
    {
      "cell_type": "code",
      "metadata": {
        "id": "77dotqGVxV8T"
      },
      "source": [
        "all = train.join(target)"
      ],
      "id": "77dotqGVxV8T",
      "execution_count": null,
      "outputs": []
    },
    {
      "cell_type": "code",
      "metadata": {
        "id": "ABfpgPSwqFn9"
      },
      "source": [
        "preds = prod_train(train, test, target)"
      ],
      "id": "ABfpgPSwqFn9",
      "execution_count": null,
      "outputs": []
    },
    {
      "cell_type": "code",
      "metadata": {
        "id": "lscydFO4prvq"
      },
      "source": [
        "preds.to_csv(f'submission_{int(time())}.csv', index=False)"
      ],
      "id": "lscydFO4prvq",
      "execution_count": null,
      "outputs": []
    },
    {
      "cell_type": "code",
      "metadata": {
        "id": "UmGzq5PNvMXQ"
      },
      "source": [
        "cat_c = CatBoostRegressor(iterations=150, task_type='GPU', random_seed=42)\n",
        "cat_tst = CatBoostRegressor(iterations=150, task_type='GPU', random_seed=42)"
      ],
      "id": "UmGzq5PNvMXQ",
      "execution_count": null,
      "outputs": []
    },
    {
      "cell_type": "code",
      "metadata": {
        "id": "qT80hSfKu0W8"
      },
      "source": [
        "param_grid = {\n",
        "    'depth' : [3, 5, 7, 9, 11],\n",
        "    'learning_rate' : [0.03, 0.05, 0.1],\n",
        "    'l2_leaf_reg' : [3, 5, 7]\n",
        "}\n",
        "\n",
        "best_cat_c = GridSearchCV(cat_c, param_grid=param_grid, n_jobs=-1, cv=2, verbose=1).fit(train[top20c], target['C']).best_estimator_\n",
        "best_cat_tst = GridSearchCV(cat_tst, param_grid=param_grid, n_jobs=-1, cv=2, verbose=1).fit(train[top20tst], target['TST']).best_estimator_"
      ],
      "id": "qT80hSfKu0W8",
      "execution_count": null,
      "outputs": []
    },
    {
      "cell_type": "code",
      "metadata": {
        "id": "Yxtiz5bvWh_Y"
      },
      "source": [
        "preds_tst = best_cat_tst.predict(test[top20tst])\n",
        "preds_c = best_cat_c.predict(test[top20c])\n",
        "preds = pd.DataFrame({'NPLV': test.index, 'C' : preds_c, 'TST' : preds_tst})"
      ],
      "id": "Yxtiz5bvWh_Y",
      "execution_count": null,
      "outputs": []
    },
    {
      "cell_type": "code",
      "metadata": {
        "id": "V2oMsFlK4Xb4"
      },
      "source": [
        "import lightgbm as lgb"
      ],
      "id": "V2oMsFlK4Xb4",
      "execution_count": null,
      "outputs": []
    },
    {
      "cell_type": "code",
      "metadata": {
        "id": "07Df9UeQ42y2"
      },
      "source": [
        "lgb_c = lgb.LGBMRegressor(n_estimators=250)\n",
        "lgb_tst = lgb.LGBMRegressor(n_estimators=250)"
      ],
      "id": "07Df9UeQ42y2",
      "execution_count": null,
      "outputs": []
    },
    {
      "cell_type": "code",
      "metadata": {
        "colab": {
          "base_uri": "https://localhost:8080/"
        },
        "id": "UaW2BnVo5Z07",
        "outputId": "180fe48f-119b-4ec4-8822-c1d254b59d47"
      },
      "source": [
        "param_grid = {\n",
        "    'max_depth ' : [3, 7, 9, -1],\n",
        "    'learning_rate' : [0.03, 0.05, 0.1],\n",
        "    'reg_lambda' : [3, 5, 0]\n",
        "}\n",
        "\n",
        "best_lgb_c = GridSearchCV(lgb_c, param_grid=param_grid, n_jobs=-1, cv=2, verbose=1).fit(train, target['C']).best_estimator_\n",
        "best_lgb_tst = GridSearchCV(lgb_tst, param_grid=param_grid, n_jobs=-1, cv=2, verbose=1).fit(train, target['TST']).best_estimator_"
      ],
      "id": "UaW2BnVo5Z07",
      "execution_count": null,
      "outputs": [
        {
          "output_type": "stream",
          "name": "stdout",
          "text": [
            "Fitting 2 folds for each of 36 candidates, totalling 72 fits\n"
          ]
        },
        {
          "output_type": "stream",
          "name": "stderr",
          "text": [
            "[Parallel(n_jobs=-1)]: Using backend LokyBackend with 2 concurrent workers.\n",
            "[Parallel(n_jobs=-1)]: Done  46 tasks      | elapsed:   52.6s\n",
            "[Parallel(n_jobs=-1)]: Done  72 out of  72 | elapsed:  1.4min finished\n"
          ]
        },
        {
          "output_type": "stream",
          "name": "stdout",
          "text": [
            "Fitting 2 folds for each of 36 candidates, totalling 72 fits\n"
          ]
        },
        {
          "output_type": "stream",
          "name": "stderr",
          "text": [
            "[Parallel(n_jobs=-1)]: Using backend LokyBackend with 2 concurrent workers.\n",
            "[Parallel(n_jobs=-1)]: Done  46 tasks      | elapsed:   50.9s\n",
            "[Parallel(n_jobs=-1)]: Done  72 out of  72 | elapsed:  1.3min finished\n"
          ]
        }
      ]
    },
    {
      "cell_type": "code",
      "metadata": {
        "id": "Wbe8DG2b7C2T"
      },
      "source": [
        "preds_tst = best_lgb_tst.predict(test)\n",
        "preds_c = best_lgb_c.predict(test)\n",
        "preds = pd.DataFrame({'NPLV': test.index, 'C' : preds_c, 'TST' : preds_tst})"
      ],
      "id": "Wbe8DG2b7C2T",
      "execution_count": null,
      "outputs": []
    },
    {
      "cell_type": "code",
      "metadata": {
        "id": "l3MOLGRy7PVQ"
      },
      "source": [
        "preds.to_csv(f'submission_{int(time())}.csv', index=False)"
      ],
      "id": "l3MOLGRy7PVQ",
      "execution_count": null,
      "outputs": []
    },
    {
      "cell_type": "markdown",
      "metadata": {
        "id": "v602SvclRY_F"
      },
      "source": [
        "# Research"
      ],
      "id": "v602SvclRY_F"
    },
    {
      "cell_type": "code",
      "metadata": {
        "id": "1zocujpXlhRN"
      },
      "source": [
        "from sklearn.ensemble import RandomForestRegressor"
      ],
      "id": "1zocujpXlhRN",
      "execution_count": null,
      "outputs": []
    },
    {
      "cell_type": "code",
      "metadata": {
        "colab": {
          "base_uri": "https://localhost:8080/"
        },
        "id": "igqsOFX3mj43",
        "outputId": "0a53476b-4144-4f00-e633-9cfeb545aef6"
      },
      "source": [
        "np.array(target['C'])"
      ],
      "id": "igqsOFX3mj43",
      "execution_count": null,
      "outputs": [
        {
          "output_type": "execute_result",
          "data": {
            "text/plain": [
              "array([0.06 , 0.097, 0.091, ..., 0.141, 0.27 , 0.183])"
            ]
          },
          "metadata": {},
          "execution_count": 26
        }
      ]
    },
    {
      "cell_type": "code",
      "metadata": {
        "colab": {
          "base_uri": "https://localhost:8080/"
        },
        "id": "JOCSIy4hlxKL",
        "outputId": "a6f75363-c2dd-4cb6-bc85-c2ce54100ef4"
      },
      "source": [
        "forest1 = RandomForestRegressor(random_state=42)\n",
        "forest1.fit(train, target['C'])"
      ],
      "id": "JOCSIy4hlxKL",
      "execution_count": null,
      "outputs": [
        {
          "output_type": "execute_result",
          "data": {
            "text/plain": [
              "RandomForestRegressor(bootstrap=True, ccp_alpha=0.0, criterion='mse',\n",
              "                      max_depth=None, max_features='auto', max_leaf_nodes=None,\n",
              "                      max_samples=None, min_impurity_decrease=0.0,\n",
              "                      min_impurity_split=None, min_samples_leaf=1,\n",
              "                      min_samples_split=2, min_weight_fraction_leaf=0.0,\n",
              "                      n_estimators=100, n_jobs=None, oob_score=False,\n",
              "                      random_state=42, verbose=0, warm_start=False)"
            ]
          },
          "metadata": {},
          "execution_count": 29
        }
      ]
    },
    {
      "cell_type": "code",
      "metadata": {
        "colab": {
          "base_uri": "https://localhost:8080/"
        },
        "id": "Uc-fHyRFUxdn",
        "outputId": "89ee6262-5a6e-4b48-d6b2-c1787134a6d5"
      },
      "source": [
        "forest2 = RandomForestRegressor(random_state=42)\n",
        "forest2.fit(train, target['TST'])"
      ],
      "id": "Uc-fHyRFUxdn",
      "execution_count": null,
      "outputs": [
        {
          "output_type": "execute_result",
          "data": {
            "text/plain": [
              "RandomForestRegressor(bootstrap=True, ccp_alpha=0.0, criterion='mse',\n",
              "                      max_depth=None, max_features='auto', max_leaf_nodes=None,\n",
              "                      max_samples=None, min_impurity_decrease=0.0,\n",
              "                      min_impurity_split=None, min_samples_leaf=1,\n",
              "                      min_samples_split=2, min_weight_fraction_leaf=0.0,\n",
              "                      n_estimators=100, n_jobs=None, oob_score=False,\n",
              "                      random_state=42, verbose=0, warm_start=False)"
            ]
          },
          "metadata": {},
          "execution_count": 37
        }
      ]
    },
    {
      "cell_type": "code",
      "metadata": {
        "id": "-DRI8uiQnMvE"
      },
      "source": [
        "importance2 = pd.DataFrame({'cols': list(train.columns), 'importance': forest2.feature_importances_})"
      ],
      "id": "-DRI8uiQnMvE",
      "execution_count": null,
      "outputs": []
    },
    {
      "cell_type": "code",
      "metadata": {
        "id": "neD6forBtqJt"
      },
      "source": [
        "sorted_imp.to_csv('features.csv')"
      ],
      "id": "neD6forBtqJt",
      "execution_count": null,
      "outputs": []
    },
    {
      "cell_type": "code",
      "metadata": {
        "id": "gdRmUQNynkoX"
      },
      "source": [
        "importance2['importance'] *= 1000"
      ],
      "id": "gdRmUQNynkoX",
      "execution_count": null,
      "outputs": []
    },
    {
      "cell_type": "code",
      "metadata": {
        "id": "R2I6uIERnwQq"
      },
      "source": [
        "sorted_imp2 = importance2.sort_values(['importance'], ascending=False)"
      ],
      "id": "R2I6uIERnwQq",
      "execution_count": null,
      "outputs": []
    },
    {
      "cell_type": "code",
      "metadata": {
        "colab": {
          "base_uri": "https://localhost:8080/",
          "height": 422
        },
        "id": "CwYDhYVLUIwM",
        "outputId": "4e32448f-f01b-43d7-e847-a6bd6be6dbc2"
      },
      "source": [
        "sorted_imp2"
      ],
      "id": "CwYDhYVLUIwM",
      "execution_count": null,
      "outputs": [
        {
          "output_type": "execute_result",
          "data": {
            "text/html": [
              "<div>\n",
              "<style scoped>\n",
              "    .dataframe tbody tr th:only-of-type {\n",
              "        vertical-align: middle;\n",
              "    }\n",
              "\n",
              "    .dataframe tbody tr th {\n",
              "        vertical-align: top;\n",
              "    }\n",
              "\n",
              "    .dataframe thead th {\n",
              "        text-align: right;\n",
              "    }\n",
              "</style>\n",
              "<table border=\"1\" class=\"dataframe\">\n",
              "  <thead>\n",
              "    <tr style=\"text-align: right;\">\n",
              "      <th></th>\n",
              "      <th>cols</th>\n",
              "      <th>importance</th>\n",
              "    </tr>\n",
              "  </thead>\n",
              "  <tbody>\n",
              "    <tr>\n",
              "      <th>146</th>\n",
              "      <td>O2_sum</td>\n",
              "      <td>157.740038</td>\n",
              "    </tr>\n",
              "    <tr>\n",
              "      <th>53</th>\n",
              "      <td>dur_10_H2_mean</td>\n",
              "      <td>104.055281</td>\n",
              "    </tr>\n",
              "    <tr>\n",
              "      <th>14</th>\n",
              "      <td>dur_10_H2_sum</td>\n",
              "      <td>73.027886</td>\n",
              "    </tr>\n",
              "    <tr>\n",
              "      <th>42</th>\n",
              "      <td>dur_5_H2_mean</td>\n",
              "      <td>34.343619</td>\n",
              "    </tr>\n",
              "    <tr>\n",
              "      <th>138</th>\n",
              "      <td>plavka_NMZ</td>\n",
              "      <td>29.683109</td>\n",
              "    </tr>\n",
              "    <tr>\n",
              "      <th>...</th>\n",
              "      <td>...</td>\n",
              "      <td>...</td>\n",
              "    </tr>\n",
              "    <tr>\n",
              "      <th>179</th>\n",
              "      <td>VDL_48</td>\n",
              "      <td>0.072819</td>\n",
              "    </tr>\n",
              "    <tr>\n",
              "      <th>172</th>\n",
              "      <td>NML_СК</td>\n",
              "      <td>0.020821</td>\n",
              "    </tr>\n",
              "    <tr>\n",
              "      <th>166</th>\n",
              "      <td>NML_К</td>\n",
              "      <td>0.002044</td>\n",
              "    </tr>\n",
              "    <tr>\n",
              "      <th>174</th>\n",
              "      <td>VDL_4</td>\n",
              "      <td>0.000018</td>\n",
              "    </tr>\n",
              "    <tr>\n",
              "      <th>182</th>\n",
              "      <td>VDL_63</td>\n",
              "      <td>0.000000</td>\n",
              "    </tr>\n",
              "  </tbody>\n",
              "</table>\n",
              "<p>183 rows × 2 columns</p>\n",
              "</div>"
            ],
            "text/plain": [
              "               cols  importance\n",
              "146          O2_sum  157.740038\n",
              "53   dur_10_H2_mean  104.055281\n",
              "14    dur_10_H2_sum   73.027886\n",
              "42    dur_5_H2_mean   34.343619\n",
              "138      plavka_NMZ   29.683109\n",
              "..              ...         ...\n",
              "179          VDL_48    0.072819\n",
              "172        NML_СК      0.020821\n",
              "166        NML_К       0.002044\n",
              "174           VDL_4    0.000018\n",
              "182          VDL_63    0.000000\n",
              "\n",
              "[183 rows x 2 columns]"
            ]
          },
          "metadata": {},
          "execution_count": 41
        }
      ]
    },
    {
      "cell_type": "code",
      "metadata": {
        "id": "nvTEWRC2okVQ"
      },
      "source": [
        "top20c = sorted_imp.iloc[:20]['cols']"
      ],
      "id": "nvTEWRC2okVQ",
      "execution_count": null,
      "outputs": []
    },
    {
      "cell_type": "code",
      "metadata": {
        "colab": {
          "base_uri": "https://localhost:8080/"
        },
        "id": "6BIDCIyDVQcl",
        "outputId": "91b32217-d9a9-425f-8f7d-3d3a96ac8b28"
      },
      "source": [
        "top40tst"
      ],
      "id": "6BIDCIyDVQcl",
      "execution_count": null,
      "outputs": [
        {
          "output_type": "execute_result",
          "data": {
            "text/plain": [
              "146                     O2_sum\n",
              "53              dur_10_H2_mean\n",
              "14               dur_10_H2_sum\n",
              "42               dur_5_H2_mean\n",
              "138                 plavka_NMZ\n",
              "78              dur_all_H2_sum\n",
              "13                dur_5_H2_sum\n",
              "79             dur_all_H2_mean\n",
              "152          Продувка_duration\n",
              "136                изв_ЦОИ_sum\n",
              "154                          T\n",
              "110           O2_pressure_diff\n",
              "164                      VES_y\n",
              "143       plavka_NAPR_ZAD_МНЛЗ\n",
              "149      Завалка лома_duration\n",
              "97                       T_max\n",
              "96                     tf2_max\n",
              "151    Заливка чугуна_duration\n",
              "61              dur_30_AR_mean\n",
              "150       Нагрев лома_duration\n",
              "140             plavka_ST_FURM\n",
              "31               dur_1_H2_mean\n",
              "124                   pol_diff\n",
              "156                         MN\n",
              "90               dur_all_T_sum\n",
              "74              dur_all_CO_sum\n",
              "157                          S\n",
              "130                 ФЛЮМАГ_sum\n",
              "3                dur_30_AR_sum\n",
              "126                    pol_end\n",
              "111                   tf1_diff\n",
              "125                  time_diff\n",
              "147                  NOP_count\n",
              "109                     V_diff\n",
              "73             dur_all_AR_mean\n",
              "91              dur_all_T_mean\n",
              "128               Уголь ТО_sum\n",
              "153                      VES_x\n",
              "70               dur_30_T_mean\n",
              "113                     T_diff\n",
              "Name: cols, dtype: object"
            ]
          },
          "metadata": {},
          "execution_count": 43
        }
      ]
    },
    {
      "cell_type": "code",
      "metadata": {
        "id": "8SLpe3Co7V_p"
      },
      "source": [
        "gases = ['AR', 'CO', 'CO2', 'H2', 'N2', 'O2']\n",
        "commons = ['O2_pressure', 'tf1', 'tf2', 'T']\n",
        "vcol = ['V']\n",
        "timecol = ['Time']\n",
        "allcols = gases + commons + vcol"
      ],
      "id": "8SLpe3Co7V_p",
      "execution_count": null,
      "outputs": []
    },
    {
      "cell_type": "code",
      "metadata": {
        "id": "d-HtBGf_7-MH"
      },
      "source": [
        "df = deepcopy(all)"
      ],
      "id": "d-HtBGf_7-MH",
      "execution_count": null,
      "outputs": []
    },
    {
      "cell_type": "code",
      "metadata": {
        "id": "O1RuCmw2-yfy"
      },
      "source": [
        "dropcols = [f'dur_{i}_{col}_sum' for i in [5, 10] for col in gases + vcol] + \\\n",
        "           [f'dur_{i}_{col}_mean' for i in [1, 5, 10, 30, 'all'] for col in gases] + \\\n",
        "           [f'dur_{i}_{col}_mean' for i in [5, 10] for col in commons+vcol] + \\\n",
        "           [f'dur_{i}_tf2_{t}' for i in [1, 5, 10, 30, 'all'] for t in ['mean']] + \\\n",
        "           [f'dur_{i}_sum' for i in [5, 10]] + [f'dur_{i}_mean' for i in [1, 5, 10, 30, 'all']] + \\\n",
        "           ['tf2_last', 'tf2_max', 'dur_all_tf2_sum'] + [f'{col}_last' for col in ['H2', 'CO', 'O2']]"
      ],
      "id": "O1RuCmw2-yfy",
      "execution_count": null,
      "outputs": []
    },
    {
      "cell_type": "code",
      "metadata": {
        "colab": {
          "base_uri": "https://localhost:8080/",
          "height": 520
        },
        "id": "Ep7E8mo_2AbQ",
        "outputId": "10fce90f-05a7-4489-8e64-8588c74653df"
      },
      "source": [
        "n = df.shape[1]\n",
        "names = list(df.columns)\n",
        "\n",
        "fig = plt.figure()\n",
        "ax = plt.gca()\n",
        "\n",
        "im = ax.matshow(df.corr('spearman'), interpolation='none')\n",
        "fig.colorbar(im)\n",
        "\n",
        "ax.set_xticks(np.arange(n))\n",
        "ax.set_xticklabels(names)\n",
        "ax.set_yticks(np.arange(n))\n",
        "ax.set_yticklabels(names)\n",
        "\n",
        "# Set ticks on both sides of axes on\n",
        "ax.tick_params(axis=\"x\", bottom=True, top=True, labelbottom=True, labeltop=True)\n",
        "# Rotate and align bottom ticklabels\n",
        "plt.setp([tick.label1 for tick in ax.xaxis.get_major_ticks()], rotation=90,\n",
        "         ha=\"right\", va=\"center\", rotation_mode=\"anchor\")\n",
        "# Rotate and align top ticklabels\n",
        "plt.setp([tick.label2 for tick in ax.xaxis.get_major_ticks()], rotation=90,\n",
        "         ha=\"left\", va=\"center\",rotation_mode=\"anchor\")\n",
        "\n",
        "ax.set_title(\"Spearman correlation\", pad=100)\n",
        "# fig.tight_layout()\n",
        "plt.show()"
      ],
      "id": "Ep7E8mo_2AbQ",
      "execution_count": null,
      "outputs": [
        {
          "output_type": "display_data",
          "data": {
            "image/png": "[encoded data removed]",
            "text/plain": [
              "<Figure size 432x288 with 2 Axes>"
            ]
          },
          "metadata": {
            "needs_background": "light"
          }
        }
      ]
    },
    {
      "cell_type": "code",
      "metadata": {
        "id": "c1aa0462-1e07-4a92-9822-d13d9d059a43"
      },
      "source": [
        "cat_tst = CatBoostRegressor(iterations=2000)\n",
        "cat_c = CatBoostRegressor(iterations=2000)"
      ],
      "id": "c1aa0462-1e07-4a92-9822-d13d9d059a43",
      "execution_count": null,
      "outputs": []
    },
    {
      "cell_type": "code",
      "metadata": {
        "id": "1f33edf9-556a-4ac8-8b0b-2896dfda3b52"
      },
      "source": [
        "target = pd.read_csv('../data/raw/target_train.csv', index_col='NPLV').fillna(0)"
      ],
      "id": "1f33edf9-556a-4ac8-8b0b-2896dfda3b52",
      "execution_count": null,
      "outputs": []
    },
    {
      "cell_type": "code",
      "metadata": {
        "id": "59675b33-c78e-4e67-b0ed-0b9e1875a4cc"
      },
      "source": [
        "X_train_tst, X_test_tst, y_train_tst, y_test_tst = train_test_split(produv_ready_train, target['TST'], test_size=0.2, random_state=42)\n",
        "X_train_c, X_test_c, y_train_c, y_test_c = train_test_split(produv_ready_train, target['C'], test_size=0.2, random_state=42)"
      ],
      "id": "59675b33-c78e-4e67-b0ed-0b9e1875a4cc",
      "execution_count": null,
      "outputs": []
    },
    {
      "cell_type": "code",
      "metadata": {
        "id": "c5934a79-ad40-4579-a34d-647bceaa4beb"
      },
      "source": [
        "cat_tst.fit(X_train_tst, y_train_tst, verbose=False)\n",
        "cat_c.fit(X_train_c, y_train_c, verbose=False)"
      ],
      "id": "c5934a79-ad40-4579-a34d-647bceaa4beb",
      "execution_count": null,
      "outputs": []
    },
    {
      "cell_type": "code",
      "metadata": {
        "id": "7fa0e710-525e-4f65-b794-19583e45251d"
      },
      "source": [
        "preds_tst = cat_tst.predict(X_test_tst)\n",
        "preds_c = cat_c.predict(X_test_c)"
      ],
      "id": "7fa0e710-525e-4f65-b794-19583e45251d",
      "execution_count": null,
      "outputs": []
    },
    {
      "cell_type": "code",
      "metadata": {
        "id": "e0d51302-56f5-43aa-9953-e3c36d70eeb2"
      },
      "source": [
        "def metric(answers, user_csv):\n",
        "\n",
        "    delta_c = np.abs(np.array(answers['C']) - np.array(user_csv['C']))\n",
        "    hit_rate_c = np.int64(delta_c < 0.02)\n",
        "\n",
        "    delta_t = np.abs(np.array(answers['TST']) - np.array(user_csv['TST']))\n",
        "    hit_rate_t = np.int64(delta_t < 20)\n",
        "\n",
        "    N = np.size(answers['C'])\n",
        "\n",
        "    return np.sum(hit_rate_c + hit_rate_t) / 2 / N"
      ],
      "id": "e0d51302-56f5-43aa-9953-e3c36d70eeb2",
      "execution_count": null,
      "outputs": []
    },
    {
      "cell_type": "code",
      "metadata": {
        "id": "1f290b0b-00cc-456b-ad7b-dbb274302778"
      },
      "source": [
        "preds = pd.DataFrame({'C' : preds_c, 'TST' : preds_tst})\n",
        "groun_truth = pd.DataFrame({'C' : y_test_c, 'TST' : y_test_tst})\n",
        "metric(groun_truth, preds)"
      ],
      "id": "1f290b0b-00cc-456b-ad7b-dbb274302778",
      "execution_count": null,
      "outputs": []
    },
    {
      "cell_type": "code",
      "metadata": {
        "id": "683f336b-ee69-40ae-80f6-5efbad501bb3",
        "outputId": "98d090f4-2bfe-49e4-a42a-159b5b2cf200"
      },
      "source": [
        "cat_tst.fit(produv_ready_train, target['TST'], verbose=False)\n",
        "cat_c.fit(produv_ready_train, target['C'], verbose=False)"
      ],
      "id": "683f336b-ee69-40ae-80f6-5efbad501bb3",
      "execution_count": null,
      "outputs": [
        {
          "data": {
            "text/plain": [
              "<catboost.core.CatBoostRegressor at 0x7f112a7fdf40>"
            ]
          },
          "execution_count": 34,
          "metadata": {},
          "output_type": "execute_result"
        }
      ]
    },
    {
      "cell_type": "code",
      "metadata": {
        "id": "d3be9566-9778-4896-9507-7badfb8ce121"
      },
      "source": [
        "preds_tst = cat_tst.predict(produv_ready_test)\n",
        "preds_c = cat_c.predict(produv_ready_test)\n",
        "preds = pd.DataFrame({'NPLV': produv_ready_test.index, 'C' : preds_c, 'TST' : preds_tst})"
      ],
      "id": "d3be9566-9778-4896-9507-7badfb8ce121",
      "execution_count": null,
      "outputs": []
    },
    {
      "cell_type": "code",
      "metadata": {
        "id": "9081660c-132d-4ca6-add4-07fe706b42b6"
      },
      "source": [
        "preds.to_csv(f'../data/submission_{int(time())}.csv', index=False)"
      ],
      "id": "9081660c-132d-4ca6-add4-07fe706b42b6",
      "execution_count": null,
      "outputs": []
    }
  ]
}