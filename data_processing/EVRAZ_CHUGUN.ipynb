{
  "nbformat": 4,
  "nbformat_minor": 0,
  "metadata": {
    "colab": {
      "name": "EVRAZ_CHUGUN.ipynb",
      "provenance": [],
      "collapsed_sections": []
    },
    "kernelspec": {
      "name": "python3",
      "display_name": "Python 3"
    },
    "language_info": {
      "name": "python"
    }
  },
  "cells": [
    {
      "cell_type": "code",
      "metadata": {
        "id": "7sAS29UMz-sq"
      },
      "source": [
        "import pandas as pd\n",
        "import numpy as np\n",
        "\n",
        "from sklearn.preprocessing import StandardScaler"
      ],
      "execution_count": null,
      "outputs": []
    },
    {
      "cell_type": "code",
      "metadata": {
        "id": "ZoZbL-fu0GLU"
      },
      "source": [
        "chugun_train = pd.read_csv('/content/chugun_train.csv')"
      ],
      "execution_count": null,
      "outputs": []
    },
    {
      "cell_type": "code",
      "metadata": {
        "colab": {
          "base_uri": "https://localhost:8080/",
          "height": 141
        },
        "id": "bGiG09Fg2JxD",
        "outputId": "f6411fd4-0e2c-450d-9138-485833643781"
      },
      "source": [
        "chugun_train.head(3)"
      ],
      "execution_count": null,
      "outputs": [
        {
          "output_type": "execute_result",
          "data": {
            "text/html": [
              "<div>\n",
              "<style scoped>\n",
              "    .dataframe tbody tr th:only-of-type {\n",
              "        vertical-align: middle;\n",
              "    }\n",
              "\n",
              "    .dataframe tbody tr th {\n",
              "        vertical-align: top;\n",
              "    }\n",
              "\n",
              "    .dataframe thead th {\n",
              "        text-align: right;\n",
              "    }\n",
              "</style>\n",
              "<table border=\"1\" class=\"dataframe\">\n",
              "  <thead>\n",
              "    <tr style=\"text-align: right;\">\n",
              "      <th></th>\n",
              "      <th>NPLV</th>\n",
              "      <th>VES</th>\n",
              "      <th>T</th>\n",
              "      <th>SI</th>\n",
              "      <th>MN</th>\n",
              "      <th>S</th>\n",
              "      <th>P</th>\n",
              "      <th>CR</th>\n",
              "      <th>NI</th>\n",
              "      <th>CU</th>\n",
              "      <th>V</th>\n",
              "      <th>TI</th>\n",
              "      <th>DATA_ZAMERA</th>\n",
              "    </tr>\n",
              "  </thead>\n",
              "  <tbody>\n",
              "    <tr>\n",
              "      <th>0</th>\n",
              "      <td>510008</td>\n",
              "      <td>263700.0</td>\n",
              "      <td>1396.0</td>\n",
              "      <td>0.44</td>\n",
              "      <td>0.22</td>\n",
              "      <td>0.023</td>\n",
              "      <td>0.097</td>\n",
              "      <td>0.03</td>\n",
              "      <td>0.01</td>\n",
              "      <td>0.03</td>\n",
              "      <td>0.103</td>\n",
              "      <td>0.084</td>\n",
              "      <td>2021-01-01 03:15:03</td>\n",
              "    </tr>\n",
              "    <tr>\n",
              "      <th>1</th>\n",
              "      <td>510009</td>\n",
              "      <td>264500.0</td>\n",
              "      <td>1419.0</td>\n",
              "      <td>0.68</td>\n",
              "      <td>0.20</td>\n",
              "      <td>0.017</td>\n",
              "      <td>0.087</td>\n",
              "      <td>0.02</td>\n",
              "      <td>0.01</td>\n",
              "      <td>0.03</td>\n",
              "      <td>0.084</td>\n",
              "      <td>0.096</td>\n",
              "      <td>2021-01-01 04:23:48</td>\n",
              "    </tr>\n",
              "    <tr>\n",
              "      <th>2</th>\n",
              "      <td>510010</td>\n",
              "      <td>263800.0</td>\n",
              "      <td>1384.0</td>\n",
              "      <td>0.56</td>\n",
              "      <td>0.26</td>\n",
              "      <td>0.017</td>\n",
              "      <td>0.096</td>\n",
              "      <td>0.03</td>\n",
              "      <td>0.01</td>\n",
              "      <td>0.03</td>\n",
              "      <td>0.115</td>\n",
              "      <td>0.110</td>\n",
              "      <td>2021-01-01 05:21:40</td>\n",
              "    </tr>\n",
              "  </tbody>\n",
              "</table>\n",
              "</div>"
            ],
            "text/plain": [
              "     NPLV       VES       T    SI  ...    CU      V     TI          DATA_ZAMERA\n",
              "0  510008  263700.0  1396.0  0.44  ...  0.03  0.103  0.084  2021-01-01 03:15:03\n",
              "1  510009  264500.0  1419.0  0.68  ...  0.03  0.084  0.096  2021-01-01 04:23:48\n",
              "2  510010  263800.0  1384.0  0.56  ...  0.03  0.115  0.110  2021-01-01 05:21:40\n",
              "\n",
              "[3 rows x 13 columns]"
            ]
          },
          "metadata": {},
          "execution_count": 80
        }
      ]
    },
    {
      "cell_type": "markdown",
      "metadata": {
        "id": "ATATtWZM-2zj"
      },
      "source": [
        "В ходе анализа переменных было обнаружено два значения веса = 0, заменим их на медианные значения"
      ]
    },
    {
      "cell_type": "code",
      "metadata": {
        "colab": {
          "base_uri": "https://localhost:8080/",
          "height": 110
        },
        "id": "ndBHHCql4480",
        "outputId": "4d2adae4-1c2b-4002-ebe2-9b87bdd9cfe2"
      },
      "source": [
        "chugun_train[chugun_train.VES == 0]"
      ],
      "execution_count": null,
      "outputs": [
        {
          "output_type": "execute_result",
          "data": {
            "text/html": [
              "<div>\n",
              "<style scoped>\n",
              "    .dataframe tbody tr th:only-of-type {\n",
              "        vertical-align: middle;\n",
              "    }\n",
              "\n",
              "    .dataframe tbody tr th {\n",
              "        vertical-align: top;\n",
              "    }\n",
              "\n",
              "    .dataframe thead th {\n",
              "        text-align: right;\n",
              "    }\n",
              "</style>\n",
              "<table border=\"1\" class=\"dataframe\">\n",
              "  <thead>\n",
              "    <tr style=\"text-align: right;\">\n",
              "      <th></th>\n",
              "      <th>NPLV</th>\n",
              "      <th>VES</th>\n",
              "      <th>T</th>\n",
              "      <th>SI</th>\n",
              "      <th>MN</th>\n",
              "      <th>S</th>\n",
              "      <th>P</th>\n",
              "      <th>CR</th>\n",
              "      <th>NI</th>\n",
              "      <th>CU</th>\n",
              "      <th>V</th>\n",
              "      <th>TI</th>\n",
              "      <th>DATA_ZAMERA</th>\n",
              "    </tr>\n",
              "  </thead>\n",
              "  <tbody>\n",
              "    <tr>\n",
              "      <th>986</th>\n",
              "      <td>511107</td>\n",
              "      <td>0.0</td>\n",
              "      <td>0.0</td>\n",
              "      <td>0.55</td>\n",
              "      <td>0.29</td>\n",
              "      <td>0.011</td>\n",
              "      <td>0.097</td>\n",
              "      <td>0.01</td>\n",
              "      <td>0.01</td>\n",
              "      <td>0.03</td>\n",
              "      <td>0.054</td>\n",
              "      <td>0.061</td>\n",
              "      <td>2021-02-26 06:47:40</td>\n",
              "    </tr>\n",
              "    <tr>\n",
              "      <th>1008</th>\n",
              "      <td>511137</td>\n",
              "      <td>0.0</td>\n",
              "      <td>0.0</td>\n",
              "      <td>0.86</td>\n",
              "      <td>0.30</td>\n",
              "      <td>0.012</td>\n",
              "      <td>0.101</td>\n",
              "      <td>0.02</td>\n",
              "      <td>0.01</td>\n",
              "      <td>0.02</td>\n",
              "      <td>0.062</td>\n",
              "      <td>0.083</td>\n",
              "      <td>2021-02-27 23:12:44</td>\n",
              "    </tr>\n",
              "  </tbody>\n",
              "</table>\n",
              "</div>"
            ],
            "text/plain": [
              "        NPLV  VES    T    SI  ...    CU      V     TI          DATA_ZAMERA\n",
              "986   511107  0.0  0.0  0.55  ...  0.03  0.054  0.061  2021-02-26 06:47:40\n",
              "1008  511137  0.0  0.0  0.86  ...  0.02  0.062  0.083  2021-02-27 23:12:44\n",
              "\n",
              "[2 rows x 13 columns]"
            ]
          },
          "metadata": {},
          "execution_count": 81
        }
      ]
    },
    {
      "cell_type": "code",
      "metadata": {
        "colab": {
          "base_uri": "https://localhost:8080/"
        },
        "id": "t2zt_23PCdGL",
        "outputId": "ed2e52a7-0c34-4fff-b32b-f3093fe80448"
      },
      "source": [
        "chugun_train['VES'].median()"
      ],
      "execution_count": null,
      "outputs": [
        {
          "output_type": "execute_result",
          "data": {
            "text/plain": [
              "266000.0"
            ]
          },
          "metadata": {},
          "execution_count": 82
        }
      ]
    },
    {
      "cell_type": "code",
      "metadata": {
        "colab": {
          "base_uri": "https://localhost:8080/"
        },
        "id": "wZVelRUm-sAF",
        "outputId": "ffadc52c-b290-4294-8646-9dfb40df86b3"
      },
      "source": [
        "chugun_train.VES[chugun_train.VES == 0] = chugun_train['VES'].median()"
      ],
      "execution_count": null,
      "outputs": [
        {
          "output_type": "stream",
          "name": "stderr",
          "text": [
            "/usr/local/lib/python3.7/dist-packages/ipykernel_launcher.py:1: SettingWithCopyWarning: \n",
            "A value is trying to be set on a copy of a slice from a DataFrame\n",
            "\n",
            "See the caveats in the documentation: https://pandas.pydata.org/pandas-docs/stable/user_guide/indexing.html#returning-a-view-versus-a-copy\n",
            "  \"\"\"Entry point for launching an IPython kernel.\n"
          ]
        }
      ]
    },
    {
      "cell_type": "code",
      "metadata": {
        "colab": {
          "base_uri": "https://localhost:8080/",
          "height": 49
        },
        "id": "VCIOJQne-y-M",
        "outputId": "02ce1714-61de-4129-9fc1-192c9b759ecd"
      },
      "source": [
        "chugun_train[chugun_train.VES == 0]"
      ],
      "execution_count": null,
      "outputs": [
        {
          "output_type": "execute_result",
          "data": {
            "text/html": [
              "<div>\n",
              "<style scoped>\n",
              "    .dataframe tbody tr th:only-of-type {\n",
              "        vertical-align: middle;\n",
              "    }\n",
              "\n",
              "    .dataframe tbody tr th {\n",
              "        vertical-align: top;\n",
              "    }\n",
              "\n",
              "    .dataframe thead th {\n",
              "        text-align: right;\n",
              "    }\n",
              "</style>\n",
              "<table border=\"1\" class=\"dataframe\">\n",
              "  <thead>\n",
              "    <tr style=\"text-align: right;\">\n",
              "      <th></th>\n",
              "      <th>NPLV</th>\n",
              "      <th>VES</th>\n",
              "      <th>T</th>\n",
              "      <th>SI</th>\n",
              "      <th>MN</th>\n",
              "      <th>S</th>\n",
              "      <th>P</th>\n",
              "      <th>CR</th>\n",
              "      <th>NI</th>\n",
              "      <th>CU</th>\n",
              "      <th>V</th>\n",
              "      <th>TI</th>\n",
              "      <th>DATA_ZAMERA</th>\n",
              "    </tr>\n",
              "  </thead>\n",
              "  <tbody>\n",
              "  </tbody>\n",
              "</table>\n",
              "</div>"
            ],
            "text/plain": [
              "Empty DataFrame\n",
              "Columns: [NPLV, VES, T, SI, MN, S, P, CR, NI, CU, V, TI, DATA_ZAMERA]\n",
              "Index: []"
            ]
          },
          "metadata": {},
          "execution_count": 84
        }
      ]
    },
    {
      "cell_type": "code",
      "metadata": {
        "colab": {
          "base_uri": "https://localhost:8080/"
        },
        "id": "jD9quCA7_zIJ",
        "outputId": "ed5a9d88-cb3c-4e54-be6d-86136587c778"
      },
      "source": [
        "chugun_train.columns"
      ],
      "execution_count": null,
      "outputs": [
        {
          "output_type": "execute_result",
          "data": {
            "text/plain": [
              "Index(['NPLV', 'VES', 'T', 'SI', 'MN', 'S', 'P', 'CR', 'NI', 'CU', 'V', 'TI',\n",
              "       'DATA_ZAMERA'],\n",
              "      dtype='object')"
            ]
          },
          "metadata": {},
          "execution_count": 85
        }
      ]
    },
    {
      "cell_type": "markdown",
      "metadata": {
        "id": "nueOUE5__jud"
      },
      "source": [
        "В ходе анализа были обнаружены строки, где температура равна 0, заменим на медианное значение"
      ]
    },
    {
      "cell_type": "code",
      "metadata": {
        "colab": {
          "base_uri": "https://localhost:8080/",
          "height": 141
        },
        "id": "s9xCNl2A_eAE",
        "outputId": "9d1ae2c6-bf83-4c9e-c9d9-b2f43889a522"
      },
      "source": [
        "chugun_train[chugun_train['T'] == 0]"
      ],
      "execution_count": null,
      "outputs": [
        {
          "output_type": "execute_result",
          "data": {
            "text/html": [
              "<div>\n",
              "<style scoped>\n",
              "    .dataframe tbody tr th:only-of-type {\n",
              "        vertical-align: middle;\n",
              "    }\n",
              "\n",
              "    .dataframe tbody tr th {\n",
              "        vertical-align: top;\n",
              "    }\n",
              "\n",
              "    .dataframe thead th {\n",
              "        text-align: right;\n",
              "    }\n",
              "</style>\n",
              "<table border=\"1\" class=\"dataframe\">\n",
              "  <thead>\n",
              "    <tr style=\"text-align: right;\">\n",
              "      <th></th>\n",
              "      <th>NPLV</th>\n",
              "      <th>VES</th>\n",
              "      <th>T</th>\n",
              "      <th>SI</th>\n",
              "      <th>MN</th>\n",
              "      <th>S</th>\n",
              "      <th>P</th>\n",
              "      <th>CR</th>\n",
              "      <th>NI</th>\n",
              "      <th>CU</th>\n",
              "      <th>V</th>\n",
              "      <th>TI</th>\n",
              "      <th>DATA_ZAMERA</th>\n",
              "    </tr>\n",
              "  </thead>\n",
              "  <tbody>\n",
              "    <tr>\n",
              "      <th>560</th>\n",
              "      <td>510644</td>\n",
              "      <td>3300.0</td>\n",
              "      <td>0.0</td>\n",
              "      <td>0.65</td>\n",
              "      <td>0.30</td>\n",
              "      <td>0.014</td>\n",
              "      <td>0.096</td>\n",
              "      <td>0.02</td>\n",
              "      <td>0.01</td>\n",
              "      <td>0.03</td>\n",
              "      <td>0.080</td>\n",
              "      <td>0.092</td>\n",
              "      <td>2021-02-01 11:40:44</td>\n",
              "    </tr>\n",
              "    <tr>\n",
              "      <th>986</th>\n",
              "      <td>511107</td>\n",
              "      <td>266000.0</td>\n",
              "      <td>0.0</td>\n",
              "      <td>0.55</td>\n",
              "      <td>0.29</td>\n",
              "      <td>0.011</td>\n",
              "      <td>0.097</td>\n",
              "      <td>0.01</td>\n",
              "      <td>0.01</td>\n",
              "      <td>0.03</td>\n",
              "      <td>0.054</td>\n",
              "      <td>0.061</td>\n",
              "      <td>2021-02-26 06:47:40</td>\n",
              "    </tr>\n",
              "    <tr>\n",
              "      <th>1008</th>\n",
              "      <td>511137</td>\n",
              "      <td>266000.0</td>\n",
              "      <td>0.0</td>\n",
              "      <td>0.86</td>\n",
              "      <td>0.30</td>\n",
              "      <td>0.012</td>\n",
              "      <td>0.101</td>\n",
              "      <td>0.02</td>\n",
              "      <td>0.01</td>\n",
              "      <td>0.02</td>\n",
              "      <td>0.062</td>\n",
              "      <td>0.083</td>\n",
              "      <td>2021-02-27 23:12:44</td>\n",
              "    </tr>\n",
              "  </tbody>\n",
              "</table>\n",
              "</div>"
            ],
            "text/plain": [
              "        NPLV       VES    T    SI  ...    CU      V     TI          DATA_ZAMERA\n",
              "560   510644    3300.0  0.0  0.65  ...  0.03  0.080  0.092  2021-02-01 11:40:44\n",
              "986   511107  266000.0  0.0  0.55  ...  0.03  0.054  0.061  2021-02-26 06:47:40\n",
              "1008  511137  266000.0  0.0  0.86  ...  0.02  0.062  0.083  2021-02-27 23:12:44\n",
              "\n",
              "[3 rows x 13 columns]"
            ]
          },
          "metadata": {},
          "execution_count": 86
        }
      ]
    },
    {
      "cell_type": "code",
      "metadata": {
        "colab": {
          "base_uri": "https://localhost:8080/"
        },
        "id": "dbyQg7y2Giz_",
        "outputId": "82eff7a7-ce21-43fe-ad3b-6c71dade22a0"
      },
      "source": [
        "chugun_train['T'].median()"
      ],
      "execution_count": null,
      "outputs": [
        {
          "output_type": "execute_result",
          "data": {
            "text/plain": [
              "1402.0"
            ]
          },
          "metadata": {},
          "execution_count": 96
        }
      ]
    },
    {
      "cell_type": "code",
      "metadata": {
        "id": "MLwjcTQE_tYP"
      },
      "source": [
        "chugun_train['T'] = chugun_train['T'].replace(0, chugun_train['T'].median())"
      ],
      "execution_count": null,
      "outputs": []
    },
    {
      "cell_type": "code",
      "metadata": {
        "colab": {
          "base_uri": "https://localhost:8080/",
          "height": 49
        },
        "id": "lCZidewk_tV1",
        "outputId": "bfdd3950-3b2e-4f23-f8e4-f3ba36f12d69"
      },
      "source": [
        "chugun_train[chugun_train['T'] == 0]"
      ],
      "execution_count": null,
      "outputs": [
        {
          "output_type": "execute_result",
          "data": {
            "text/html": [
              "<div>\n",
              "<style scoped>\n",
              "    .dataframe tbody tr th:only-of-type {\n",
              "        vertical-align: middle;\n",
              "    }\n",
              "\n",
              "    .dataframe tbody tr th {\n",
              "        vertical-align: top;\n",
              "    }\n",
              "\n",
              "    .dataframe thead th {\n",
              "        text-align: right;\n",
              "    }\n",
              "</style>\n",
              "<table border=\"1\" class=\"dataframe\">\n",
              "  <thead>\n",
              "    <tr style=\"text-align: right;\">\n",
              "      <th></th>\n",
              "      <th>NPLV</th>\n",
              "      <th>VES</th>\n",
              "      <th>T</th>\n",
              "      <th>SI</th>\n",
              "      <th>MN</th>\n",
              "      <th>S</th>\n",
              "      <th>P</th>\n",
              "      <th>CR</th>\n",
              "      <th>NI</th>\n",
              "      <th>CU</th>\n",
              "      <th>V</th>\n",
              "      <th>TI</th>\n",
              "    </tr>\n",
              "  </thead>\n",
              "  <tbody>\n",
              "  </tbody>\n",
              "</table>\n",
              "</div>"
            ],
            "text/plain": [
              "Empty DataFrame\n",
              "Columns: [NPLV, VES, T, SI, MN, S, P, CR, NI, CU, V, TI]\n",
              "Index: []"
            ]
          },
          "metadata": {},
          "execution_count": 122
        }
      ]
    },
    {
      "cell_type": "code",
      "metadata": {
        "colab": {
          "base_uri": "https://localhost:8080/",
          "height": 203
        },
        "id": "qTg7RP0weM3A",
        "outputId": "5aede60e-d958-4e89-e7d9-66ed9a0217ba"
      },
      "source": [
        "chugun_train.head()"
      ],
      "execution_count": null,
      "outputs": [
        {
          "output_type": "execute_result",
          "data": {
            "text/html": [
              "<div>\n",
              "<style scoped>\n",
              "    .dataframe tbody tr th:only-of-type {\n",
              "        vertical-align: middle;\n",
              "    }\n",
              "\n",
              "    .dataframe tbody tr th {\n",
              "        vertical-align: top;\n",
              "    }\n",
              "\n",
              "    .dataframe thead th {\n",
              "        text-align: right;\n",
              "    }\n",
              "</style>\n",
              "<table border=\"1\" class=\"dataframe\">\n",
              "  <thead>\n",
              "    <tr style=\"text-align: right;\">\n",
              "      <th></th>\n",
              "      <th>NPLV</th>\n",
              "      <th>VES</th>\n",
              "      <th>T</th>\n",
              "      <th>SI</th>\n",
              "      <th>MN</th>\n",
              "      <th>S</th>\n",
              "      <th>P</th>\n",
              "      <th>CR</th>\n",
              "      <th>NI</th>\n",
              "      <th>CU</th>\n",
              "      <th>V</th>\n",
              "      <th>TI</th>\n",
              "    </tr>\n",
              "  </thead>\n",
              "  <tbody>\n",
              "    <tr>\n",
              "      <th>0</th>\n",
              "      <td>510008</td>\n",
              "      <td>263700.0</td>\n",
              "      <td>1396.0</td>\n",
              "      <td>0.44</td>\n",
              "      <td>0.22</td>\n",
              "      <td>0.023</td>\n",
              "      <td>0.097</td>\n",
              "      <td>0.03</td>\n",
              "      <td>0.01</td>\n",
              "      <td>0.03</td>\n",
              "      <td>0.103</td>\n",
              "      <td>0.084</td>\n",
              "    </tr>\n",
              "    <tr>\n",
              "      <th>1</th>\n",
              "      <td>510009</td>\n",
              "      <td>264500.0</td>\n",
              "      <td>1419.0</td>\n",
              "      <td>0.68</td>\n",
              "      <td>0.20</td>\n",
              "      <td>0.017</td>\n",
              "      <td>0.087</td>\n",
              "      <td>0.02</td>\n",
              "      <td>0.01</td>\n",
              "      <td>0.03</td>\n",
              "      <td>0.084</td>\n",
              "      <td>0.096</td>\n",
              "    </tr>\n",
              "    <tr>\n",
              "      <th>2</th>\n",
              "      <td>510010</td>\n",
              "      <td>263800.0</td>\n",
              "      <td>1384.0</td>\n",
              "      <td>0.56</td>\n",
              "      <td>0.26</td>\n",
              "      <td>0.017</td>\n",
              "      <td>0.096</td>\n",
              "      <td>0.03</td>\n",
              "      <td>0.01</td>\n",
              "      <td>0.03</td>\n",
              "      <td>0.115</td>\n",
              "      <td>0.110</td>\n",
              "    </tr>\n",
              "    <tr>\n",
              "      <th>3</th>\n",
              "      <td>510011</td>\n",
              "      <td>264000.0</td>\n",
              "      <td>1401.0</td>\n",
              "      <td>0.48</td>\n",
              "      <td>0.27</td>\n",
              "      <td>0.018</td>\n",
              "      <td>0.091</td>\n",
              "      <td>0.03</td>\n",
              "      <td>0.01</td>\n",
              "      <td>0.02</td>\n",
              "      <td>0.112</td>\n",
              "      <td>0.110</td>\n",
              "    </tr>\n",
              "    <tr>\n",
              "      <th>4</th>\n",
              "      <td>510012</td>\n",
              "      <td>263300.0</td>\n",
              "      <td>1422.0</td>\n",
              "      <td>0.47</td>\n",
              "      <td>0.23</td>\n",
              "      <td>0.018</td>\n",
              "      <td>0.096</td>\n",
              "      <td>0.02</td>\n",
              "      <td>0.01</td>\n",
              "      <td>0.03</td>\n",
              "      <td>0.083</td>\n",
              "      <td>0.070</td>\n",
              "    </tr>\n",
              "  </tbody>\n",
              "</table>\n",
              "</div>"
            ],
            "text/plain": [
              "     NPLV       VES       T    SI    MN  ...    CR    NI    CU      V     TI\n",
              "0  510008  263700.0  1396.0  0.44  0.22  ...  0.03  0.01  0.03  0.103  0.084\n",
              "1  510009  264500.0  1419.0  0.68  0.20  ...  0.02  0.01  0.03  0.084  0.096\n",
              "2  510010  263800.0  1384.0  0.56  0.26  ...  0.03  0.01  0.03  0.115  0.110\n",
              "3  510011  264000.0  1401.0  0.48  0.27  ...  0.03  0.01  0.02  0.112  0.110\n",
              "4  510012  263300.0  1422.0  0.47  0.23  ...  0.02  0.01  0.03  0.083  0.070\n",
              "\n",
              "[5 rows x 12 columns]"
            ]
          },
          "metadata": {},
          "execution_count": 125
        }
      ]
    },
    {
      "cell_type": "code",
      "metadata": {
        "id": "yTbfvjzDGuBv"
      },
      "source": [
        "chugun_train=chugun_train.drop(['DATA_ZAMERA'], axis=1)"
      ],
      "execution_count": null,
      "outputs": []
    },
    {
      "cell_type": "code",
      "metadata": {
        "id": "g72ruM0_RpP-"
      },
      "source": [
        "scaler = StandardScaler()"
      ],
      "execution_count": null,
      "outputs": []
    },
    {
      "cell_type": "code",
      "metadata": {
        "id": "rc6XJfQdRh-C"
      },
      "source": [
        "chugun_train['VES'] = scaler.fit_transform(np.array(chugun_train['VES']).reshape(-1,1))\n",
        "chugun_train['T'] = scaler.fit_transform(np.array(chugun_train['T']).reshape(-1,1))"
      ],
      "execution_count": null,
      "outputs": []
    },
    {
      "cell_type": "code",
      "metadata": {
        "colab": {
          "base_uri": "https://localhost:8080/",
          "height": 418
        },
        "id": "MMGriUGz_tMO",
        "outputId": "b4c9bb50-5413-4736-cb3e-4e35bdac7d49"
      },
      "source": [
        "chugun_train"
      ],
      "execution_count": null,
      "outputs": [
        {
          "output_type": "execute_result",
          "data": {
            "text/html": [
              "<div>\n",
              "<style scoped>\n",
              "    .dataframe tbody tr th:only-of-type {\n",
              "        vertical-align: middle;\n",
              "    }\n",
              "\n",
              "    .dataframe tbody tr th {\n",
              "        vertical-align: top;\n",
              "    }\n",
              "\n",
              "    .dataframe thead th {\n",
              "        text-align: right;\n",
              "    }\n",
              "</style>\n",
              "<table border=\"1\" class=\"dataframe\">\n",
              "  <thead>\n",
              "    <tr style=\"text-align: right;\">\n",
              "      <th></th>\n",
              "      <th>NPLV</th>\n",
              "      <th>VES</th>\n",
              "      <th>T</th>\n",
              "      <th>SI</th>\n",
              "      <th>MN</th>\n",
              "      <th>S</th>\n",
              "      <th>P</th>\n",
              "      <th>CR</th>\n",
              "      <th>NI</th>\n",
              "      <th>CU</th>\n",
              "      <th>V</th>\n",
              "      <th>TI</th>\n",
              "    </tr>\n",
              "  </thead>\n",
              "  <tbody>\n",
              "    <tr>\n",
              "      <th>0</th>\n",
              "      <td>510008</td>\n",
              "      <td>-0.344448</td>\n",
              "      <td>-0.131840</td>\n",
              "      <td>0.44</td>\n",
              "      <td>0.22</td>\n",
              "      <td>0.023</td>\n",
              "      <td>0.097</td>\n",
              "      <td>0.03</td>\n",
              "      <td>0.01</td>\n",
              "      <td>0.03</td>\n",
              "      <td>0.103</td>\n",
              "      <td>0.084</td>\n",
              "    </tr>\n",
              "    <tr>\n",
              "      <th>1</th>\n",
              "      <td>510009</td>\n",
              "      <td>-0.255204</td>\n",
              "      <td>0.787841</td>\n",
              "      <td>0.68</td>\n",
              "      <td>0.20</td>\n",
              "      <td>0.017</td>\n",
              "      <td>0.087</td>\n",
              "      <td>0.02</td>\n",
              "      <td>0.01</td>\n",
              "      <td>0.03</td>\n",
              "      <td>0.084</td>\n",
              "      <td>0.096</td>\n",
              "    </tr>\n",
              "    <tr>\n",
              "      <th>2</th>\n",
              "      <td>510010</td>\n",
              "      <td>-0.333292</td>\n",
              "      <td>-0.611673</td>\n",
              "      <td>0.56</td>\n",
              "      <td>0.26</td>\n",
              "      <td>0.017</td>\n",
              "      <td>0.096</td>\n",
              "      <td>0.03</td>\n",
              "      <td>0.01</td>\n",
              "      <td>0.03</td>\n",
              "      <td>0.115</td>\n",
              "      <td>0.110</td>\n",
              "    </tr>\n",
              "    <tr>\n",
              "      <th>3</th>\n",
              "      <td>510011</td>\n",
              "      <td>-0.310981</td>\n",
              "      <td>0.068091</td>\n",
              "      <td>0.48</td>\n",
              "      <td>0.27</td>\n",
              "      <td>0.018</td>\n",
              "      <td>0.091</td>\n",
              "      <td>0.03</td>\n",
              "      <td>0.01</td>\n",
              "      <td>0.02</td>\n",
              "      <td>0.112</td>\n",
              "      <td>0.110</td>\n",
              "    </tr>\n",
              "    <tr>\n",
              "      <th>4</th>\n",
              "      <td>510012</td>\n",
              "      <td>-0.389070</td>\n",
              "      <td>0.907799</td>\n",
              "      <td>0.47</td>\n",
              "      <td>0.23</td>\n",
              "      <td>0.018</td>\n",
              "      <td>0.096</td>\n",
              "      <td>0.02</td>\n",
              "      <td>0.01</td>\n",
              "      <td>0.03</td>\n",
              "      <td>0.083</td>\n",
              "      <td>0.070</td>\n",
              "    </tr>\n",
              "    <tr>\n",
              "      <th>...</th>\n",
              "      <td>...</td>\n",
              "      <td>...</td>\n",
              "      <td>...</td>\n",
              "      <td>...</td>\n",
              "      <td>...</td>\n",
              "      <td>...</td>\n",
              "      <td>...</td>\n",
              "      <td>...</td>\n",
              "      <td>...</td>\n",
              "      <td>...</td>\n",
              "      <td>...</td>\n",
              "      <td>...</td>\n",
              "    </tr>\n",
              "    <tr>\n",
              "      <th>2058</th>\n",
              "      <td>512318</td>\n",
              "      <td>0.045996</td>\n",
              "      <td>0.627896</td>\n",
              "      <td>0.38</td>\n",
              "      <td>0.28</td>\n",
              "      <td>0.019</td>\n",
              "      <td>0.099</td>\n",
              "      <td>0.02</td>\n",
              "      <td>0.01</td>\n",
              "      <td>0.02</td>\n",
              "      <td>0.081</td>\n",
              "      <td>0.060</td>\n",
              "    </tr>\n",
              "    <tr>\n",
              "      <th>2059</th>\n",
              "      <td>512319</td>\n",
              "      <td>0.001373</td>\n",
              "      <td>0.228035</td>\n",
              "      <td>0.50</td>\n",
              "      <td>0.30</td>\n",
              "      <td>0.017</td>\n",
              "      <td>0.104</td>\n",
              "      <td>0.02</td>\n",
              "      <td>0.01</td>\n",
              "      <td>0.02</td>\n",
              "      <td>0.079</td>\n",
              "      <td>0.081</td>\n",
              "    </tr>\n",
              "    <tr>\n",
              "      <th>2060</th>\n",
              "      <td>512320</td>\n",
              "      <td>1.038838</td>\n",
              "      <td>-0.051868</td>\n",
              "      <td>0.61</td>\n",
              "      <td>0.31</td>\n",
              "      <td>0.025</td>\n",
              "      <td>0.115</td>\n",
              "      <td>0.03</td>\n",
              "      <td>0.01</td>\n",
              "      <td>0.03</td>\n",
              "      <td>0.086</td>\n",
              "      <td>0.066</td>\n",
              "    </tr>\n",
              "    <tr>\n",
              "      <th>2061</th>\n",
              "      <td>512321</td>\n",
              "      <td>1.005371</td>\n",
              "      <td>0.347994</td>\n",
              "      <td>0.38</td>\n",
              "      <td>0.27</td>\n",
              "      <td>0.021</td>\n",
              "      <td>0.100</td>\n",
              "      <td>0.02</td>\n",
              "      <td>0.01</td>\n",
              "      <td>0.03</td>\n",
              "      <td>0.076</td>\n",
              "      <td>0.060</td>\n",
              "    </tr>\n",
              "    <tr>\n",
              "      <th>2062</th>\n",
              "      <td>512322</td>\n",
              "      <td>1.384659</td>\n",
              "      <td>0.547924</td>\n",
              "      <td>0.50</td>\n",
              "      <td>0.31</td>\n",
              "      <td>0.019</td>\n",
              "      <td>0.105</td>\n",
              "      <td>0.02</td>\n",
              "      <td>0.01</td>\n",
              "      <td>0.03</td>\n",
              "      <td>0.077</td>\n",
              "      <td>0.067</td>\n",
              "    </tr>\n",
              "  </tbody>\n",
              "</table>\n",
              "<p>2063 rows × 12 columns</p>\n",
              "</div>"
            ],
            "text/plain": [
              "        NPLV       VES         T    SI    MN  ...    CR    NI    CU      V     TI\n",
              "0     510008 -0.344448 -0.131840  0.44  0.22  ...  0.03  0.01  0.03  0.103  0.084\n",
              "1     510009 -0.255204  0.787841  0.68  0.20  ...  0.02  0.01  0.03  0.084  0.096\n",
              "2     510010 -0.333292 -0.611673  0.56  0.26  ...  0.03  0.01  0.03  0.115  0.110\n",
              "3     510011 -0.310981  0.068091  0.48  0.27  ...  0.03  0.01  0.02  0.112  0.110\n",
              "4     510012 -0.389070  0.907799  0.47  0.23  ...  0.02  0.01  0.03  0.083  0.070\n",
              "...      ...       ...       ...   ...   ...  ...   ...   ...   ...    ...    ...\n",
              "2058  512318  0.045996  0.627896  0.38  0.28  ...  0.02  0.01  0.02  0.081  0.060\n",
              "2059  512319  0.001373  0.228035  0.50  0.30  ...  0.02  0.01  0.02  0.079  0.081\n",
              "2060  512320  1.038838 -0.051868  0.61  0.31  ...  0.03  0.01  0.03  0.086  0.066\n",
              "2061  512321  1.005371  0.347994  0.38  0.27  ...  0.02  0.01  0.03  0.076  0.060\n",
              "2062  512322  1.384659  0.547924  0.50  0.31  ...  0.02  0.01  0.03  0.077  0.067\n",
              "\n",
              "[2063 rows x 12 columns]"
            ]
          },
          "metadata": {},
          "execution_count": 129
        }
      ]
    },
    {
      "cell_type": "code",
      "metadata": {
        "id": "BLxXXiCs_tKb"
      },
      "source": [
        "chugun_train.to_csv('chugun_train_csv.csv', index=False)"
      ],
      "execution_count": null,
      "outputs": []
    },
    {
      "cell_type": "code",
      "metadata": {
        "id": "LTfjSIyifYOh"
      },
      "source": [
        "chugun_test = pd.read_csv('/content/chugun_test.csv')"
      ],
      "execution_count": null,
      "outputs": []
    },
    {
      "cell_type": "code",
      "metadata": {
        "id": "et2QjNdkfdfB"
      },
      "source": [
        "def preparation(chugun_train):\n",
        "  chugun_train['T'] = chugun_train['T'].replace(0, chugun_train['T'].median())\n",
        "  chugun_train.VES[chugun_train.VES == 0] = chugun_train['VES'].median()\n",
        "  chugun_train=chugun_train.drop(['DATA_ZAMERA'], axis=1)\n",
        "  chugun_train['VES'] = scaler.fit_transform(np.array(chugun_train['VES']).reshape(-1,1))\n",
        "  chugun_train['T'] = scaler.fit_transform(np.array(chugun_train['T']).reshape(-1,1))\n",
        "  return chugun_train"
      ],
      "execution_count": null,
      "outputs": []
    },
    {
      "cell_type": "code",
      "metadata": {
        "id": "AcrN6_58gATJ",
        "colab": {
          "base_uri": "https://localhost:8080/"
        },
        "outputId": "86d23786-b64e-48f0-881d-80200ab70321"
      },
      "source": [
        "chugun_test = preparation(chugun_test)"
      ],
      "execution_count": null,
      "outputs": [
        {
          "output_type": "stream",
          "name": "stderr",
          "text": [
            "/usr/local/lib/python3.7/dist-packages/ipykernel_launcher.py:3: SettingWithCopyWarning: \n",
            "A value is trying to be set on a copy of a slice from a DataFrame\n",
            "\n",
            "See the caveats in the documentation: https://pandas.pydata.org/pandas-docs/stable/user_guide/indexing.html#returning-a-view-versus-a-copy\n",
            "  This is separate from the ipykernel package so we can avoid doing imports until\n"
          ]
        }
      ]
    },
    {
      "cell_type": "code",
      "metadata": {
        "id": "fmuwQdIvgJ-U"
      },
      "source": [
        "chugun_test.to_csv('chugun_test_csv.csv', index=False)"
      ],
      "execution_count": null,
      "outputs": []
    }
  ]
}