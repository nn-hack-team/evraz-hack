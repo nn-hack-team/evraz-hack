{
  "nbformat": 4,
  "nbformat_minor": 0,
  "metadata": {
    "colab": {
      "name": "nn_team_evraz.ipynb",
      "provenance": [],
      "collapsed_sections": [
        "klXCkFx6x1JY",
        "iOJ0TspB0xE7",
        "6eyBaqFqT0Aa",
        "41Lhmf5zM1zj"
      ]
    },
    "kernelspec": {
      "name": "python3",
      "display_name": "Python 3"
    },
    "language_info": {
      "name": "python"
    },
    "accelerator": "GPU"
  },
  "cells": [
    {
      "cell_type": "code",
      "metadata": {
        "id": "QkDNw6IY-f3u"
      },
      "source": [
        "import numpy as np\n",
        "import pandas as pd"
      ],
      "execution_count": 2,
      "outputs": []
    },
    {
      "cell_type": "markdown",
      "metadata": {
        "id": "cBohVYaeIDdO"
      },
      "source": [
        "##preproc sip"
      ]
    },
    {
      "cell_type": "code",
      "metadata": {
        "id": "8Z_snTM-NiGz"
      },
      "source": [
        "#PATH\n",
        "sip_train = pd.read_csv('./sip_train.csv')\n",
        "sip_test = pd.read_csv('./sip_test.csv')"
      ],
      "execution_count": 21,
      "outputs": []
    },
    {
      "cell_type": "code",
      "metadata": {
        "colab": {
          "base_uri": "https://localhost:8080/",
          "height": 204
        },
        "id": "VlXtz7ab4y99",
        "outputId": "8f238559-73d7-4ef8-e4af-9c55b53c77fc"
      },
      "source": [
        "sip_train.head()"
      ],
      "execution_count": 22,
      "outputs": [
        {
          "output_type": "execute_result",
          "data": {
            "text/html": [
              "<div>\n",
              "<style scoped>\n",
              "    .dataframe tbody tr th:only-of-type {\n",
              "        vertical-align: middle;\n",
              "    }\n",
              "\n",
              "    .dataframe tbody tr th {\n",
              "        vertical-align: top;\n",
              "    }\n",
              "\n",
              "    .dataframe thead th {\n",
              "        text-align: right;\n",
              "    }\n",
              "</style>\n",
              "<table border=\"1\" class=\"dataframe\">\n",
              "  <thead>\n",
              "    <tr style=\"text-align: right;\">\n",
              "      <th></th>\n",
              "      <th>NPLV</th>\n",
              "      <th>VDSYP</th>\n",
              "      <th>NMSYP</th>\n",
              "      <th>VSSYP</th>\n",
              "      <th>DAT_OTD</th>\n",
              "    </tr>\n",
              "  </thead>\n",
              "  <tbody>\n",
              "    <tr>\n",
              "      <th>0</th>\n",
              "      <td>510008</td>\n",
              "      <td>346</td>\n",
              "      <td>Уголь ТО</td>\n",
              "      <td>570</td>\n",
              "      <td>2021-01-01 03:03:53</td>\n",
              "    </tr>\n",
              "    <tr>\n",
              "      <th>1</th>\n",
              "      <td>510008</td>\n",
              "      <td>346</td>\n",
              "      <td>Уголь ТО</td>\n",
              "      <td>220</td>\n",
              "      <td>2021-01-01 03:04:10</td>\n",
              "    </tr>\n",
              "    <tr>\n",
              "      <th>2</th>\n",
              "      <td>510008</td>\n",
              "      <td>408</td>\n",
              "      <td>изв_ЦОИ</td>\n",
              "      <td>7300</td>\n",
              "      <td>2021-01-01 03:08:17</td>\n",
              "    </tr>\n",
              "    <tr>\n",
              "      <th>3</th>\n",
              "      <td>510008</td>\n",
              "      <td>346</td>\n",
              "      <td>Уголь ТО</td>\n",
              "      <td>270</td>\n",
              "      <td>2021-01-01 03:09:03</td>\n",
              "    </tr>\n",
              "    <tr>\n",
              "      <th>4</th>\n",
              "      <td>510008</td>\n",
              "      <td>346</td>\n",
              "      <td>Уголь ТО</td>\n",
              "      <td>430</td>\n",
              "      <td>2021-01-01 03:09:20</td>\n",
              "    </tr>\n",
              "  </tbody>\n",
              "</table>\n",
              "</div>"
            ],
            "text/plain": [
              "     NPLV  VDSYP     NMSYP  VSSYP              DAT_OTD\n",
              "0  510008    346  Уголь ТО    570  2021-01-01 03:03:53\n",
              "1  510008    346  Уголь ТО    220  2021-01-01 03:04:10\n",
              "2  510008    408   изв_ЦОИ   7300  2021-01-01 03:08:17\n",
              "3  510008    346  Уголь ТО    270  2021-01-01 03:09:03\n",
              "4  510008    346  Уголь ТО    430  2021-01-01 03:09:20"
            ]
          },
          "metadata": {},
          "execution_count": 22
        }
      ]
    },
    {
      "cell_type": "code",
      "metadata": {
        "colab": {
          "base_uri": "https://localhost:8080/"
        },
        "id": "TV-UBnFh43gW",
        "outputId": "4c352e89-99b1-4a7b-fd50-2ab120aa75de"
      },
      "source": [
        "print(sip_train.NMSYP.value_counts(), \"\\n\")\n",
        "print(sip_test.NMSYP.value_counts())"
      ],
      "execution_count": 23,
      "outputs": [
        {
          "output_type": "stream",
          "name": "stdout",
          "text": [
            "изв_ЦОИ       19055\n",
            "Уголь ТО       7747\n",
            "ФЛЮМАГ         2930\n",
            "Флюс ФОМИ      1624\n",
            "изв отсев       226\n",
            "Долом(сыр)        2\n",
            "Name: NMSYP, dtype: int64 \n",
            "\n",
            "изв_ЦОИ       7718\n",
            "Уголь ТО      1049\n",
            "ФЛЮМАГ         842\n",
            "Флюс ФОМИ      341\n",
            "изв_отсев      204\n",
            "агл_офл_с      154\n",
            "долом_сыр      147\n",
            "кокс_25_40       7\n",
            "Name: NMSYP, dtype: int64\n"
          ]
        }
      ]
    },
    {
      "cell_type": "code",
      "metadata": {
        "id": "VqhvaMiMSg3J",
        "colab": {
          "base_uri": "https://localhost:8080/"
        },
        "outputId": "283751c9-bc51-412d-a162-3836fc2769c4"
      },
      "source": [
        "sip_train.drop('VDSYP', axis=1, inplace=True)\n",
        "sip_test.drop('VDSYP', axis=1, inplace=True)\n",
        "sip_test['NMSYP'] = sip_test.NMSYP.apply(lambda x: \"изв отсев\" if x == \"изв_отсев\" else x)\n",
        "\n",
        "NMSYP_top_values = sip_test.NMSYP.value_counts().index.to_list()[0:5]\n",
        "NMSYP_top_values"
      ],
      "execution_count": 24,
      "outputs": [
        {
          "output_type": "execute_result",
          "data": {
            "text/plain": [
              "['изв_ЦОИ', 'Уголь ТО', 'ФЛЮМАГ', 'Флюс ФОМИ', 'изв отсев']"
            ]
          },
          "metadata": {},
          "execution_count": 24
        }
      ]
    },
    {
      "cell_type": "code",
      "metadata": {
        "id": "aH1G5VD7owuu"
      },
      "source": [
        "def get_sip_df(df_base: pd.DataFrame, NMSYP_values: list) -> pd.DataFrame:\n",
        "    '''\n",
        "        df_base: датафрейм sip_train или sip_test\n",
        "        result: датафрейм df_finally с признаками суммы добавочных веществ.\n",
        "    '''\n",
        "\n",
        "    # Датафрейм из номеров плавки\n",
        "    df_finally = pd.DataFrame({\"NPLV\": df_base['NPLV'].unique()})\n",
        "\n",
        "    # Группировка по номеру плавки и названию сыпучей добавки\n",
        "    grouper = df_base.groupby(['NPLV', 'NMSYP'], as_index=False)\n",
        "\n",
        "    # пробегаемся по всем значениям NMSYP. Для каждого значения номера плавка получаем сумму по значению NMSYP\n",
        "    mass_sum = grouper['VSSYP'].sum()\n",
        "    operations_count = grouper['VSSYP'].count()\n",
        "\n",
        "    for nmsyp in NMSYP_values:\n",
        "        df_nmsyp = mass_sum[mass_sum.NMSYP == nmsyp].reset_index(drop=True).drop('NMSYP', axis=1).rename(columns={\"VSSYP\": nmsyp + \"_sum\"})\n",
        "        df_operations = operations_count[operations_count.NMSYP == nmsyp].reset_index(drop=True).drop('NMSYP', axis=1).rename(columns={\"VSSYP\": nmsyp + \"_op_count\"})\n",
        "        \n",
        "        df_finally = pd.merge(df_finally, df_nmsyp, on=('NPLV'), how='left')\n",
        "        df_finally = pd.merge(df_finally, df_operations, on=('NPLV'), how='left')\n",
        "    \n",
        "    df_finally = df_finally.fillna(0)\n",
        "\n",
        "    return df_finally"
      ],
      "execution_count": 25,
      "outputs": []
    },
    {
      "cell_type": "code",
      "metadata": {
        "id": "MRwDde0u9AfK"
      },
      "source": [
        "df_sip_train = get_sip_df(sip_train, NMSYP_top_values)\n",
        "df_sip_test = get_sip_df(sip_test, NMSYP_top_values)"
      ],
      "execution_count": 26,
      "outputs": []
    },
    {
      "cell_type": "code",
      "metadata": {
        "colab": {
          "base_uri": "https://localhost:8080/",
          "height": 220
        },
        "id": "AKBc3rQFQ4rT",
        "outputId": "285b83e3-674f-4072-be06-469cc913fb9b"
      },
      "source": [
        "df_sip_train.head()"
      ],
      "execution_count": 27,
      "outputs": [
        {
          "output_type": "execute_result",
          "data": {
            "text/html": [
              "<div>\n",
              "<style scoped>\n",
              "    .dataframe tbody tr th:only-of-type {\n",
              "        vertical-align: middle;\n",
              "    }\n",
              "\n",
              "    .dataframe tbody tr th {\n",
              "        vertical-align: top;\n",
              "    }\n",
              "\n",
              "    .dataframe thead th {\n",
              "        text-align: right;\n",
              "    }\n",
              "</style>\n",
              "<table border=\"1\" class=\"dataframe\">\n",
              "  <thead>\n",
              "    <tr style=\"text-align: right;\">\n",
              "      <th></th>\n",
              "      <th>NPLV</th>\n",
              "      <th>изв_ЦОИ_sum</th>\n",
              "      <th>изв_ЦОИ_op_count</th>\n",
              "      <th>Уголь ТО_sum</th>\n",
              "      <th>Уголь ТО_op_count</th>\n",
              "      <th>ФЛЮМАГ_sum</th>\n",
              "      <th>ФЛЮМАГ_op_count</th>\n",
              "      <th>Флюс ФОМИ_sum</th>\n",
              "      <th>Флюс ФОМИ_op_count</th>\n",
              "      <th>изв отсев_sum</th>\n",
              "      <th>изв отсев_op_count</th>\n",
              "    </tr>\n",
              "  </thead>\n",
              "  <tbody>\n",
              "    <tr>\n",
              "      <th>0</th>\n",
              "      <td>510008</td>\n",
              "      <td>14080</td>\n",
              "      <td>5</td>\n",
              "      <td>2950.0</td>\n",
              "      <td>5.0</td>\n",
              "      <td>2960.0</td>\n",
              "      <td>1.0</td>\n",
              "      <td>980.0</td>\n",
              "      <td>1.0</td>\n",
              "      <td>0.0</td>\n",
              "      <td>0.0</td>\n",
              "    </tr>\n",
              "    <tr>\n",
              "      <th>1</th>\n",
              "      <td>510009</td>\n",
              "      <td>18830</td>\n",
              "      <td>8</td>\n",
              "      <td>2930.0</td>\n",
              "      <td>5.0</td>\n",
              "      <td>0.0</td>\n",
              "      <td>0.0</td>\n",
              "      <td>960.0</td>\n",
              "      <td>1.0</td>\n",
              "      <td>1060.0</td>\n",
              "      <td>1.0</td>\n",
              "    </tr>\n",
              "    <tr>\n",
              "      <th>2</th>\n",
              "      <td>510010</td>\n",
              "      <td>16080</td>\n",
              "      <td>5</td>\n",
              "      <td>2990.0</td>\n",
              "      <td>5.0</td>\n",
              "      <td>2960.0</td>\n",
              "      <td>1.0</td>\n",
              "      <td>1050.0</td>\n",
              "      <td>1.0</td>\n",
              "      <td>990.0</td>\n",
              "      <td>1.0</td>\n",
              "    </tr>\n",
              "    <tr>\n",
              "      <th>3</th>\n",
              "      <td>510011</td>\n",
              "      <td>22150</td>\n",
              "      <td>6</td>\n",
              "      <td>3620.0</td>\n",
              "      <td>5.0</td>\n",
              "      <td>0.0</td>\n",
              "      <td>0.0</td>\n",
              "      <td>980.0</td>\n",
              "      <td>1.0</td>\n",
              "      <td>550.0</td>\n",
              "      <td>1.0</td>\n",
              "    </tr>\n",
              "    <tr>\n",
              "      <th>4</th>\n",
              "      <td>510012</td>\n",
              "      <td>19550</td>\n",
              "      <td>8</td>\n",
              "      <td>2930.0</td>\n",
              "      <td>3.0</td>\n",
              "      <td>3010.0</td>\n",
              "      <td>2.0</td>\n",
              "      <td>1000.0</td>\n",
              "      <td>1.0</td>\n",
              "      <td>2050.0</td>\n",
              "      <td>2.0</td>\n",
              "    </tr>\n",
              "  </tbody>\n",
              "</table>\n",
              "</div>"
            ],
            "text/plain": [
              "     NPLV  изв_ЦОИ_sum  ...  изв отсев_sum  изв отсев_op_count\n",
              "0  510008        14080  ...            0.0                 0.0\n",
              "1  510009        18830  ...         1060.0                 1.0\n",
              "2  510010        16080  ...          990.0                 1.0\n",
              "3  510011        22150  ...          550.0                 1.0\n",
              "4  510012        19550  ...         2050.0                 2.0\n",
              "\n",
              "[5 rows x 11 columns]"
            ]
          },
          "metadata": {},
          "execution_count": 27
        }
      ]
    },
    {
      "cell_type": "code",
      "metadata": {
        "colab": {
          "base_uri": "https://localhost:8080/",
          "height": 220
        },
        "id": "60Ep6KYIRHVT",
        "outputId": "0456dd78-2702-42ae-f6b7-25d3590a0b4d"
      },
      "source": [
        "df_sip_test.head()"
      ],
      "execution_count": 28,
      "outputs": [
        {
          "output_type": "execute_result",
          "data": {
            "text/html": [
              "<div>\n",
              "<style scoped>\n",
              "    .dataframe tbody tr th:only-of-type {\n",
              "        vertical-align: middle;\n",
              "    }\n",
              "\n",
              "    .dataframe tbody tr th {\n",
              "        vertical-align: top;\n",
              "    }\n",
              "\n",
              "    .dataframe thead th {\n",
              "        text-align: right;\n",
              "    }\n",
              "</style>\n",
              "<table border=\"1\" class=\"dataframe\">\n",
              "  <thead>\n",
              "    <tr style=\"text-align: right;\">\n",
              "      <th></th>\n",
              "      <th>NPLV</th>\n",
              "      <th>изв_ЦОИ_sum</th>\n",
              "      <th>изв_ЦОИ_op_count</th>\n",
              "      <th>Уголь ТО_sum</th>\n",
              "      <th>Уголь ТО_op_count</th>\n",
              "      <th>ФЛЮМАГ_sum</th>\n",
              "      <th>ФЛЮМАГ_op_count</th>\n",
              "      <th>Флюс ФОМИ_sum</th>\n",
              "      <th>Флюс ФОМИ_op_count</th>\n",
              "      <th>изв отсев_sum</th>\n",
              "      <th>изв отсев_op_count</th>\n",
              "    </tr>\n",
              "  </thead>\n",
              "  <tbody>\n",
              "    <tr>\n",
              "      <th>0</th>\n",
              "      <td>512324</td>\n",
              "      <td>13960</td>\n",
              "      <td>10</td>\n",
              "      <td>1310.0</td>\n",
              "      <td>4.0</td>\n",
              "      <td>1670.0</td>\n",
              "      <td>1.0</td>\n",
              "      <td>0.0</td>\n",
              "      <td>0.0</td>\n",
              "      <td>0.0</td>\n",
              "      <td>0.0</td>\n",
              "    </tr>\n",
              "    <tr>\n",
              "      <th>1</th>\n",
              "      <td>512327</td>\n",
              "      <td>15290</td>\n",
              "      <td>11</td>\n",
              "      <td>0.0</td>\n",
              "      <td>0.0</td>\n",
              "      <td>0.0</td>\n",
              "      <td>0.0</td>\n",
              "      <td>0.0</td>\n",
              "      <td>0.0</td>\n",
              "      <td>0.0</td>\n",
              "      <td>0.0</td>\n",
              "    </tr>\n",
              "    <tr>\n",
              "      <th>2</th>\n",
              "      <td>512328</td>\n",
              "      <td>20010</td>\n",
              "      <td>16</td>\n",
              "      <td>0.0</td>\n",
              "      <td>0.0</td>\n",
              "      <td>0.0</td>\n",
              "      <td>0.0</td>\n",
              "      <td>0.0</td>\n",
              "      <td>0.0</td>\n",
              "      <td>0.0</td>\n",
              "      <td>0.0</td>\n",
              "    </tr>\n",
              "    <tr>\n",
              "      <th>3</th>\n",
              "      <td>512331</td>\n",
              "      <td>14060</td>\n",
              "      <td>10</td>\n",
              "      <td>0.0</td>\n",
              "      <td>0.0</td>\n",
              "      <td>0.0</td>\n",
              "      <td>0.0</td>\n",
              "      <td>0.0</td>\n",
              "      <td>0.0</td>\n",
              "      <td>0.0</td>\n",
              "      <td>0.0</td>\n",
              "    </tr>\n",
              "    <tr>\n",
              "      <th>4</th>\n",
              "      <td>512333</td>\n",
              "      <td>20100</td>\n",
              "      <td>11</td>\n",
              "      <td>0.0</td>\n",
              "      <td>0.0</td>\n",
              "      <td>0.0</td>\n",
              "      <td>0.0</td>\n",
              "      <td>0.0</td>\n",
              "      <td>0.0</td>\n",
              "      <td>0.0</td>\n",
              "      <td>0.0</td>\n",
              "    </tr>\n",
              "  </tbody>\n",
              "</table>\n",
              "</div>"
            ],
            "text/plain": [
              "     NPLV  изв_ЦОИ_sum  ...  изв отсев_sum  изв отсев_op_count\n",
              "0  512324        13960  ...            0.0                 0.0\n",
              "1  512327        15290  ...            0.0                 0.0\n",
              "2  512328        20010  ...            0.0                 0.0\n",
              "3  512331        14060  ...            0.0                 0.0\n",
              "4  512333        20100  ...            0.0                 0.0\n",
              "\n",
              "[5 rows x 11 columns]"
            ]
          },
          "metadata": {},
          "execution_count": 28
        }
      ]
    },
    {
      "cell_type": "code",
      "metadata": {
        "id": "dibPEHYyT5Xa"
      },
      "source": [
        "#df_sip_train.to_csv(\"preproc_sip_train.csv\", index=False)\n",
        "#df_sip_test.to_csv(\"preproc_sip_test.csv\", index=False)"
      ],
      "execution_count": null,
      "outputs": []
    },
    {
      "cell_type": "markdown",
      "metadata": {
        "id": "b2pLfBW9ovas"
      },
      "source": [
        "##preproc chronom\n"
      ]
    },
    {
      "cell_type": "code",
      "metadata": {
        "id": "B3xH5yS6ovCq"
      },
      "source": [
        "#PATH\n",
        "chronom_train = pd.read_csv(\"chronom_train.csv\")\n",
        "chronom_test = pd.read_csv(\"chronom_test.csv\")"
      ],
      "execution_count": 31,
      "outputs": []
    },
    {
      "cell_type": "code",
      "metadata": {
        "colab": {
          "base_uri": "https://localhost:8080/",
          "height": 204
        },
        "id": "io05egWn7Wx0",
        "outputId": "66cd156d-1694-4166-b9e8-6ef7436c50e8"
      },
      "source": [
        "chronom_train.head()"
      ],
      "execution_count": 32,
      "outputs": [
        {
          "output_type": "execute_result",
          "data": {
            "text/html": [
              "<div>\n",
              "<style scoped>\n",
              "    .dataframe tbody tr th:only-of-type {\n",
              "        vertical-align: middle;\n",
              "    }\n",
              "\n",
              "    .dataframe tbody tr th {\n",
              "        vertical-align: top;\n",
              "    }\n",
              "\n",
              "    .dataframe thead th {\n",
              "        text-align: right;\n",
              "    }\n",
              "</style>\n",
              "<table border=\"1\" class=\"dataframe\">\n",
              "  <thead>\n",
              "    <tr style=\"text-align: right;\">\n",
              "      <th></th>\n",
              "      <th>Unnamed: 0</th>\n",
              "      <th>NPLV</th>\n",
              "      <th>TYPE_OPER</th>\n",
              "      <th>NOP</th>\n",
              "      <th>VR_NACH</th>\n",
              "      <th>VR_KON</th>\n",
              "      <th>O2</th>\n",
              "    </tr>\n",
              "  </thead>\n",
              "  <tbody>\n",
              "    <tr>\n",
              "      <th>0</th>\n",
              "      <td>35171</td>\n",
              "      <td>510008</td>\n",
              "      <td>межпл.прост.</td>\n",
              "      <td>межпл. простой</td>\n",
              "      <td>2011-01-01 10:28:13</td>\n",
              "      <td>2011-01-01 10:32:15</td>\n",
              "      <td>NaN</td>\n",
              "    </tr>\n",
              "    <tr>\n",
              "      <th>1</th>\n",
              "      <td>35162</td>\n",
              "      <td>510008</td>\n",
              "      <td>межпл.прост.</td>\n",
              "      <td>межпл. простой</td>\n",
              "      <td>2021-01-01 03:01:07</td>\n",
              "      <td>2021-01-01 03:08:11</td>\n",
              "      <td>NaN</td>\n",
              "    </tr>\n",
              "    <tr>\n",
              "      <th>2</th>\n",
              "      <td>35163</td>\n",
              "      <td>510008</td>\n",
              "      <td>межпл.прост.</td>\n",
              "      <td>Осмотр конвертера</td>\n",
              "      <td>2021-01-01 03:01:19</td>\n",
              "      <td>2021-01-01 03:03:43</td>\n",
              "      <td>NaN</td>\n",
              "    </tr>\n",
              "    <tr>\n",
              "      <th>3</th>\n",
              "      <td>35164</td>\n",
              "      <td>510008</td>\n",
              "      <td>межпл.прост.</td>\n",
              "      <td>Наведение гарнисажа</td>\n",
              "      <td>2021-01-01 03:03:43</td>\n",
              "      <td>2021-01-01 03:05:23</td>\n",
              "      <td>NaN</td>\n",
              "    </tr>\n",
              "    <tr>\n",
              "      <th>4</th>\n",
              "      <td>35165</td>\n",
              "      <td>510008</td>\n",
              "      <td>межпл.прост.</td>\n",
              "      <td>Слив шлака</td>\n",
              "      <td>2021-01-01 03:05:23</td>\n",
              "      <td>2021-01-01 03:06:09</td>\n",
              "      <td>NaN</td>\n",
              "    </tr>\n",
              "  </tbody>\n",
              "</table>\n",
              "</div>"
            ],
            "text/plain": [
              "   Unnamed: 0    NPLV  ...               VR_KON  O2\n",
              "0       35171  510008  ...  2011-01-01 10:32:15 NaN\n",
              "1       35162  510008  ...  2021-01-01 03:08:11 NaN\n",
              "2       35163  510008  ...  2021-01-01 03:03:43 NaN\n",
              "3       35164  510008  ...  2021-01-01 03:05:23 NaN\n",
              "4       35165  510008  ...  2021-01-01 03:06:09 NaN\n",
              "\n",
              "[5 rows x 7 columns]"
            ]
          },
          "metadata": {},
          "execution_count": 32
        }
      ]
    },
    {
      "cell_type": "code",
      "metadata": {
        "colab": {
          "base_uri": "https://localhost:8080/",
          "height": 204
        },
        "id": "hwNA56CZ7YfG",
        "outputId": "095366bd-1d0e-4533-c56c-440a4ad11c18"
      },
      "source": [
        "chronom_test.head()"
      ],
      "execution_count": 33,
      "outputs": [
        {
          "output_type": "execute_result",
          "data": {
            "text/html": [
              "<div>\n",
              "<style scoped>\n",
              "    .dataframe tbody tr th:only-of-type {\n",
              "        vertical-align: middle;\n",
              "    }\n",
              "\n",
              "    .dataframe tbody tr th {\n",
              "        vertical-align: top;\n",
              "    }\n",
              "\n",
              "    .dataframe thead th {\n",
              "        text-align: right;\n",
              "    }\n",
              "</style>\n",
              "<table border=\"1\" class=\"dataframe\">\n",
              "  <thead>\n",
              "    <tr style=\"text-align: right;\">\n",
              "      <th></th>\n",
              "      <th>Unnamed: 0</th>\n",
              "      <th>NPLV</th>\n",
              "      <th>TYPE_OPER</th>\n",
              "      <th>NOP</th>\n",
              "      <th>VR_NACH</th>\n",
              "      <th>VR_KON</th>\n",
              "      <th>O2</th>\n",
              "    </tr>\n",
              "  </thead>\n",
              "  <tbody>\n",
              "    <tr>\n",
              "      <th>0</th>\n",
              "      <td>0</td>\n",
              "      <td>512324</td>\n",
              "      <td>межпл.прост.</td>\n",
              "      <td>межпл. простой</td>\n",
              "      <td>2011-05-07 21:28:59</td>\n",
              "      <td>2011-05-07 21:33:38</td>\n",
              "      <td>NaN</td>\n",
              "    </tr>\n",
              "    <tr>\n",
              "      <th>1</th>\n",
              "      <td>1</td>\n",
              "      <td>512324</td>\n",
              "      <td>межпл.прост.</td>\n",
              "      <td>межпл. простой</td>\n",
              "      <td>2021-05-05 17:35:55</td>\n",
              "      <td>2021-05-05 17:41:21</td>\n",
              "      <td>NaN</td>\n",
              "    </tr>\n",
              "    <tr>\n",
              "      <th>2</th>\n",
              "      <td>2</td>\n",
              "      <td>512324</td>\n",
              "      <td>межпл.прост.</td>\n",
              "      <td>Осмотр конвертера</td>\n",
              "      <td>2021-05-05 17:36:07</td>\n",
              "      <td>2021-05-05 17:39:07</td>\n",
              "      <td>NaN</td>\n",
              "    </tr>\n",
              "    <tr>\n",
              "      <th>3</th>\n",
              "      <td>3</td>\n",
              "      <td>512324</td>\n",
              "      <td>межпл.прост.</td>\n",
              "      <td>Слив шлака</td>\n",
              "      <td>2021-05-05 17:39:07</td>\n",
              "      <td>2021-05-05 17:41:20</td>\n",
              "      <td>NaN</td>\n",
              "    </tr>\n",
              "    <tr>\n",
              "      <th>4</th>\n",
              "      <td>4</td>\n",
              "      <td>512324</td>\n",
              "      <td>опер</td>\n",
              "      <td>Завалка лома</td>\n",
              "      <td>2021-05-05 17:41:21</td>\n",
              "      <td>2021-05-05 17:43:16</td>\n",
              "      <td>NaN</td>\n",
              "    </tr>\n",
              "  </tbody>\n",
              "</table>\n",
              "</div>"
            ],
            "text/plain": [
              "   Unnamed: 0    NPLV  ...               VR_KON  O2\n",
              "0           0  512324  ...  2011-05-07 21:33:38 NaN\n",
              "1           1  512324  ...  2021-05-05 17:41:21 NaN\n",
              "2           2  512324  ...  2021-05-05 17:39:07 NaN\n",
              "3           3  512324  ...  2021-05-05 17:41:20 NaN\n",
              "4           4  512324  ...  2021-05-05 17:43:16 NaN\n",
              "\n",
              "[5 rows x 7 columns]"
            ]
          },
          "metadata": {},
          "execution_count": 33
        }
      ]
    },
    {
      "cell_type": "code",
      "metadata": {
        "id": "iAXMM5tbsIxd"
      },
      "source": [
        "def preproc_base(df_base: pd.DataFrame):\n",
        "    '''\n",
        "    df_base: chronom_train.csv или chronom_test.csv\n",
        "    '''\n",
        "    # 1) удаляем ненужный столбец (сильно коррелирует с NOP - названием операции)\n",
        "    # 2) удаляем столбец Unnamed с лишними индексами\n",
        "    df_base.drop('Unnamed: 0', axis=1, inplace=True)\n",
        "    df_base = df_base[df_base['TYPE_OPER'] == 'опер'].reset_index(drop=True)\n",
        "    df_base.drop('TYPE_OPER', axis=1, inplace=True)\n",
        "\n",
        "    # преобразуем время\n",
        "    df_base['VR_NACH'] = pd.to_datetime(df_base['VR_NACH'])\n",
        "    df_base['VR_KON'] = pd.to_datetime(df_base['VR_KON'])\n",
        "\n",
        "    # заполнение пропущенных значений\n",
        "    index_op_with_na = list(df_base[df_base.VR_KON.isna()].index)\n",
        "    for i in index_op_with_na:\n",
        "        df_base.loc[i, 'VR_KON'] = df_base.loc[i + 1, 'VR_NACH']\n",
        "\n",
        "    # Исправляем строки в которых время начала операции больше времени конца\n",
        "    index_error_time = list(df_base[df_base.VR_NACH > df_base.VR_KON].index)\n",
        "    for i in index_error_time:\n",
        "        df_base.loc[i, 'VR_KON'] = df_base.loc[i + 1, 'VR_NACH']\n",
        "\n",
        "    # Добавляем столбец с длительностью операций\n",
        "    df_base['duration'] = (df_base.VR_KON - df_base.VR_NACH).astype('timedelta64[s]')\n",
        "\n",
        "    # убираем ненужные столбцы\n",
        "    df_base.drop('VR_NACH', axis=1, inplace=True)\n",
        "    df_base.drop('VR_KON', axis=1, inplace=True)\n",
        "    df_base.drop('O2', axis=1, inplace=True)\n",
        "\n",
        "    return df_base"
      ],
      "execution_count": 34,
      "outputs": []
    },
    {
      "cell_type": "code",
      "metadata": {
        "id": "83rxbjZq-72c"
      },
      "source": [
        "chronom_test = preproc_base(chronom_test)\n",
        "chronom_train = preproc_base(chronom_train)"
      ],
      "execution_count": 35,
      "outputs": []
    },
    {
      "cell_type": "code",
      "metadata": {
        "colab": {
          "base_uri": "https://localhost:8080/",
          "height": 204
        },
        "id": "7RyQBUIm7eDU",
        "outputId": "6139bc21-de98-4244-9c26-d063335bd529"
      },
      "source": [
        "chronom_train.head()"
      ],
      "execution_count": 36,
      "outputs": [
        {
          "output_type": "execute_result",
          "data": {
            "text/html": [
              "<div>\n",
              "<style scoped>\n",
              "    .dataframe tbody tr th:only-of-type {\n",
              "        vertical-align: middle;\n",
              "    }\n",
              "\n",
              "    .dataframe tbody tr th {\n",
              "        vertical-align: top;\n",
              "    }\n",
              "\n",
              "    .dataframe thead th {\n",
              "        text-align: right;\n",
              "    }\n",
              "</style>\n",
              "<table border=\"1\" class=\"dataframe\">\n",
              "  <thead>\n",
              "    <tr style=\"text-align: right;\">\n",
              "      <th></th>\n",
              "      <th>NPLV</th>\n",
              "      <th>NOP</th>\n",
              "      <th>duration</th>\n",
              "    </tr>\n",
              "  </thead>\n",
              "  <tbody>\n",
              "    <tr>\n",
              "      <th>0</th>\n",
              "      <td>510008</td>\n",
              "      <td>Завалка лома</td>\n",
              "      <td>16.0</td>\n",
              "    </tr>\n",
              "    <tr>\n",
              "      <th>1</th>\n",
              "      <td>510008</td>\n",
              "      <td>Нагрев лома</td>\n",
              "      <td>365.0</td>\n",
              "    </tr>\n",
              "    <tr>\n",
              "      <th>2</th>\n",
              "      <td>510008</td>\n",
              "      <td>Нагрев лома</td>\n",
              "      <td>365.0</td>\n",
              "    </tr>\n",
              "    <tr>\n",
              "      <th>3</th>\n",
              "      <td>510008</td>\n",
              "      <td>Заливка чугуна</td>\n",
              "      <td>203.0</td>\n",
              "    </tr>\n",
              "    <tr>\n",
              "      <th>4</th>\n",
              "      <td>510008</td>\n",
              "      <td>Продувка</td>\n",
              "      <td>1170.0</td>\n",
              "    </tr>\n",
              "  </tbody>\n",
              "</table>\n",
              "</div>"
            ],
            "text/plain": [
              "     NPLV             NOP  duration\n",
              "0  510008    Завалка лома      16.0\n",
              "1  510008     Нагрев лома     365.0\n",
              "2  510008     Нагрев лома     365.0\n",
              "3  510008  Заливка чугуна     203.0\n",
              "4  510008        Продувка    1170.0"
            ]
          },
          "metadata": {},
          "execution_count": 36
        }
      ]
    },
    {
      "cell_type": "code",
      "metadata": {
        "id": "GBYlKsc6mPGc"
      },
      "source": [
        "def get_chronom_dur(df_base: pd.DataFrame) -> pd.DataFrame:\n",
        "    '''\n",
        "        df_base: датафрейм chronom_train или chronom_test\n",
        "        result: датафрейм df_finally, который содержит длительность операций\n",
        "                для каждого номера плавки.\n",
        "    '''\n",
        "\n",
        "    # Датафрейм из номеров плавки\n",
        "    df_finally = pd.DataFrame({\"NPLV\": df_base['NPLV'].unique()})\n",
        "\n",
        "    # Группировка по номеру плавки и названию операции\n",
        "    grouper = df_base.groupby(['NPLV', 'NOP'], as_index=False)\n",
        "\n",
        "    # пробегаемся по всем значениям NOP. Для каждого значения номера плавка получаем сумму по значению duration\n",
        "    dur_sum = grouper['duration'].sum()\n",
        "    #NOP_values = df_base.NOP.unique() # все значения NOP\n",
        "    #NOP_values.sort()\n",
        "\n",
        "    # Только те операции, которые присутствуют в тестовых данных\n",
        "    NOP_values = ['Завалка лома', 'Нагрев лома', 'Заливка чугуна', 'Продувка'] \n",
        "    for name_op in NOP_values:\n",
        "        df_nop = dur_sum[dur_sum.NOP == name_op].reset_index(drop=True).drop('NOP', axis=1).rename(columns={\"duration\": name_op + \"_duration\"})\n",
        "        df_finally = pd.merge(df_finally, df_nop, on=('NPLV'), how='left')\n",
        "    \n",
        "    df_finally = df_finally.fillna(0)\n",
        "\n",
        "    return df_finally"
      ],
      "execution_count": 37,
      "outputs": []
    },
    {
      "cell_type": "code",
      "metadata": {
        "id": "BDpAUvqsyCPD"
      },
      "source": [
        "chronom_dur_train = get_chronom_dur(chronom_train)\n",
        "chronom_dur_test = get_chronom_dur(chronom_test)"
      ],
      "execution_count": 38,
      "outputs": []
    },
    {
      "cell_type": "code",
      "metadata": {
        "colab": {
          "base_uri": "https://localhost:8080/",
          "height": 204
        },
        "id": "IvhcQKCu7jAI",
        "outputId": "1b306433-30fb-4256-ccd1-29a9f0eff0a6"
      },
      "source": [
        "chronom_dur_train.head()"
      ],
      "execution_count": 39,
      "outputs": [
        {
          "output_type": "execute_result",
          "data": {
            "text/html": [
              "<div>\n",
              "<style scoped>\n",
              "    .dataframe tbody tr th:only-of-type {\n",
              "        vertical-align: middle;\n",
              "    }\n",
              "\n",
              "    .dataframe tbody tr th {\n",
              "        vertical-align: top;\n",
              "    }\n",
              "\n",
              "    .dataframe thead th {\n",
              "        text-align: right;\n",
              "    }\n",
              "</style>\n",
              "<table border=\"1\" class=\"dataframe\">\n",
              "  <thead>\n",
              "    <tr style=\"text-align: right;\">\n",
              "      <th></th>\n",
              "      <th>NPLV</th>\n",
              "      <th>Завалка лома_duration</th>\n",
              "      <th>Нагрев лома_duration</th>\n",
              "      <th>Заливка чугуна_duration</th>\n",
              "      <th>Продувка_duration</th>\n",
              "    </tr>\n",
              "  </thead>\n",
              "  <tbody>\n",
              "    <tr>\n",
              "      <th>0</th>\n",
              "      <td>510008</td>\n",
              "      <td>16.0</td>\n",
              "      <td>730.0</td>\n",
              "      <td>203.0</td>\n",
              "      <td>1170.0</td>\n",
              "    </tr>\n",
              "    <tr>\n",
              "      <th>1</th>\n",
              "      <td>510009</td>\n",
              "      <td>31.0</td>\n",
              "      <td>788.0</td>\n",
              "      <td>188.0</td>\n",
              "      <td>1230.0</td>\n",
              "    </tr>\n",
              "    <tr>\n",
              "      <th>2</th>\n",
              "      <td>510010</td>\n",
              "      <td>133.0</td>\n",
              "      <td>738.0</td>\n",
              "      <td>209.0</td>\n",
              "      <td>1226.0</td>\n",
              "    </tr>\n",
              "    <tr>\n",
              "      <th>3</th>\n",
              "      <td>510011</td>\n",
              "      <td>17.0</td>\n",
              "      <td>776.0</td>\n",
              "      <td>175.0</td>\n",
              "      <td>1058.0</td>\n",
              "    </tr>\n",
              "    <tr>\n",
              "      <th>4</th>\n",
              "      <td>510012</td>\n",
              "      <td>136.0</td>\n",
              "      <td>736.0</td>\n",
              "      <td>184.0</td>\n",
              "      <td>1239.0</td>\n",
              "    </tr>\n",
              "  </tbody>\n",
              "</table>\n",
              "</div>"
            ],
            "text/plain": [
              "     NPLV  Завалка лома_duration  ...  Заливка чугуна_duration  Продувка_duration\n",
              "0  510008                   16.0  ...                    203.0             1170.0\n",
              "1  510009                   31.0  ...                    188.0             1230.0\n",
              "2  510010                  133.0  ...                    209.0             1226.0\n",
              "3  510011                   17.0  ...                    175.0             1058.0\n",
              "4  510012                  136.0  ...                    184.0             1239.0\n",
              "\n",
              "[5 rows x 5 columns]"
            ]
          },
          "metadata": {},
          "execution_count": 39
        }
      ]
    },
    {
      "cell_type": "code",
      "metadata": {
        "colab": {
          "base_uri": "https://localhost:8080/",
          "height": 204
        },
        "id": "jysT7yk47mSK",
        "outputId": "9a6a6fb0-3dae-4105-f538-a58f727c8692"
      },
      "source": [
        "chronom_dur_test.head()"
      ],
      "execution_count": 40,
      "outputs": [
        {
          "output_type": "execute_result",
          "data": {
            "text/html": [
              "<div>\n",
              "<style scoped>\n",
              "    .dataframe tbody tr th:only-of-type {\n",
              "        vertical-align: middle;\n",
              "    }\n",
              "\n",
              "    .dataframe tbody tr th {\n",
              "        vertical-align: top;\n",
              "    }\n",
              "\n",
              "    .dataframe thead th {\n",
              "        text-align: right;\n",
              "    }\n",
              "</style>\n",
              "<table border=\"1\" class=\"dataframe\">\n",
              "  <thead>\n",
              "    <tr style=\"text-align: right;\">\n",
              "      <th></th>\n",
              "      <th>NPLV</th>\n",
              "      <th>Завалка лома_duration</th>\n",
              "      <th>Нагрев лома_duration</th>\n",
              "      <th>Заливка чугуна_duration</th>\n",
              "      <th>Продувка_duration</th>\n",
              "    </tr>\n",
              "  </thead>\n",
              "  <tbody>\n",
              "    <tr>\n",
              "      <th>0</th>\n",
              "      <td>512324</td>\n",
              "      <td>115.0</td>\n",
              "      <td>730.0</td>\n",
              "      <td>143.0</td>\n",
              "      <td>1263.0</td>\n",
              "    </tr>\n",
              "    <tr>\n",
              "      <th>1</th>\n",
              "      <td>512327</td>\n",
              "      <td>114.0</td>\n",
              "      <td>0.0</td>\n",
              "      <td>578.0</td>\n",
              "      <td>1074.0</td>\n",
              "    </tr>\n",
              "    <tr>\n",
              "      <th>2</th>\n",
              "      <td>512328</td>\n",
              "      <td>2096.0</td>\n",
              "      <td>0.0</td>\n",
              "      <td>150.0</td>\n",
              "      <td>1122.0</td>\n",
              "    </tr>\n",
              "    <tr>\n",
              "      <th>3</th>\n",
              "      <td>512331</td>\n",
              "      <td>3015.0</td>\n",
              "      <td>0.0</td>\n",
              "      <td>221.0</td>\n",
              "      <td>1103.0</td>\n",
              "    </tr>\n",
              "    <tr>\n",
              "      <th>4</th>\n",
              "      <td>512333</td>\n",
              "      <td>1478.0</td>\n",
              "      <td>0.0</td>\n",
              "      <td>199.0</td>\n",
              "      <td>1096.0</td>\n",
              "    </tr>\n",
              "  </tbody>\n",
              "</table>\n",
              "</div>"
            ],
            "text/plain": [
              "     NPLV  Завалка лома_duration  ...  Заливка чугуна_duration  Продувка_duration\n",
              "0  512324                  115.0  ...                    143.0             1263.0\n",
              "1  512327                  114.0  ...                    578.0             1074.0\n",
              "2  512328                 2096.0  ...                    150.0             1122.0\n",
              "3  512331                 3015.0  ...                    221.0             1103.0\n",
              "4  512333                 1478.0  ...                    199.0             1096.0\n",
              "\n",
              "[5 rows x 5 columns]"
            ]
          },
          "metadata": {},
          "execution_count": 40
        }
      ]
    },
    {
      "cell_type": "markdown",
      "metadata": {
        "id": "klXCkFx6x1JY"
      },
      "source": [
        "##MERGE ALL TABLES"
      ]
    },
    {
      "cell_type": "code",
      "metadata": {
        "id": "Qm7xbmaDo99-"
      },
      "source": [
        "chronom_harry_train = pd.read_csv('df_chronom_train.csv')\n",
        "chronom_harry_test = pd.read_csv('df_chronom_test.csv')\n",
        "\n",
        "# Удаляем столбцы, которые в тестовых данных полностью заполнены нулями\n",
        "chronom_harry_train.drop('O2_C', axis=1, inplace=True)\n",
        "chronom_harry_train.drop('O2_t', axis=1, inplace=True)\n",
        "chronom_harry_test.drop('O2_C', axis=1, inplace=True)\n",
        "chronom_harry_test.drop('O2_t', axis=1, inplace=True)\n",
        "\n",
        "chronom_complete_train = pd.merge(chronom_harry_train, chronom_dur_train, on=('NPLV'))\n",
        "chronom_complete_test = pd.merge(chronom_harry_test, chronom_dur_test, on=('NPLV'))"
      ],
      "execution_count": null,
      "outputs": []
    },
    {
      "cell_type": "code",
      "metadata": {
        "id": "GUDkuEu3OAp0"
      },
      "source": [
        "# подгружаем таблицу produv + gas + plavki + sip\n",
        "train_all = pd.read_csv(\"train.csv\")\n",
        "test_all = pd.read_csv(\"test.csv\")\n",
        "\n",
        "# chugun preproc table\n",
        "chugun_train = pd.read_csv(\"chugun_train_csv.csv\")\n",
        "chugun_test = pd.read_csv(\"chugun_test_csv.csv\")\n",
        "\n",
        "# lom preproc table\n",
        "lom_train = pd.read_csv(\"lom_train_csv_1.csv\")\n",
        "lom_test = pd.read_csv(\"lom_test_csv_1.csv\")"
      ],
      "execution_count": null,
      "outputs": []
    },
    {
      "cell_type": "code",
      "metadata": {
        "id": "HGcoXcsTOobJ"
      },
      "source": [
        "# соединяем в одну таблицу\n",
        "train_all = pd.merge(train_all, chronom_final_train, on=('NPLV'))\n",
        "test_all = pd.merge(test_all, chronom_final_test, on=('NPLV'))\n",
        "\n",
        "train_all = pd.merge(train_all, chugun_train, on=('NPLV'))\n",
        "test_all = pd.merge(test_all, chugun_test, on=('NPLV'))\n",
        "\n",
        "train_all = pd.merge(train_all, lom_train, on=('NPLV'))\n",
        "test_all = pd.merge(test_all, lom_test, on=('NPLV'))"
      ],
      "execution_count": null,
      "outputs": []
    },
    {
      "cell_type": "code",
      "metadata": {
        "id": "dwfSlnFDc1QB"
      },
      "source": [
        "train_all.to_csv(\"train_all.csv\", index=False)\n",
        "test_all.to_csv(\"test_all.csv\", index=False)"
      ],
      "execution_count": null,
      "outputs": []
    },
    {
      "cell_type": "markdown",
      "metadata": {
        "id": "iOJ0TspB0xE7"
      },
      "source": [
        "##Стандартизация"
      ]
    },
    {
      "cell_type": "code",
      "metadata": {
        "id": "4TYeqK1KY-fu"
      },
      "source": [
        "from sklearn.preprocessing import RobustScaler\n",
        "from sklearn.preprocessing import MinMaxScaler\n",
        "\n",
        "tt = train_all.append(test_all)\n",
        "scaler = MinMaxScaler()\n",
        "scaler.fit(tt)\n",
        "train_all[:] = scaler.transform(train_all)\n",
        "test_all[:] = scaler.transform(test_all)"
      ],
      "execution_count": null,
      "outputs": []
    },
    {
      "cell_type": "markdown",
      "metadata": {
        "id": "6eyBaqFqT0Aa"
      },
      "source": [
        "## catboost\n"
      ]
    },
    {
      "cell_type": "code",
      "metadata": {
        "id": "CFptL0YLTzPe"
      },
      "source": [
        "import os\n",
        "from time import time\n",
        "import pandas as pd\n",
        "import numpy as np\n",
        "import matplotlib.pyplot as plt\n",
        "from copy import deepcopy\n",
        "from sklearn.preprocessing import MinMaxScaler\n",
        "from sklearn.model_selection import train_test_split\n",
        "!pip install catboost\n",
        "from catboost import CatBoostRegressor\n",
        "\n",
        "from sklearn.model_selection import GridSearchCV"
      ],
      "execution_count": null,
      "outputs": []
    },
    {
      "cell_type": "code",
      "metadata": {
        "id": "1xg4uuox1bMb"
      },
      "source": [
        "target = pd.read_csv('target_train.csv', index_col='NPLV').fillna(0)\n",
        "nplv = test_all.NPLV\n",
        "train_all.drop('NPLV', axis=1, inplace=True)\n",
        "test_all.drop('NPLV', axis=1, inplace=True)"
      ],
      "execution_count": null,
      "outputs": []
    },
    {
      "cell_type": "code",
      "metadata": {
        "id": "p-3GnnE31hVR"
      },
      "source": [
        "# features - таблица с названиями 40 лучших фичей, отбор с помощью random forest\n",
        "features = pd.read_csv(\"features.csv\")\n",
        "best_features = features.cols[:40].to_list()\n",
        "\n",
        "train_all_best = train_all.loc[:, best_features]\n",
        "test_all_best = test_all.loc[:, best_features]"
      ],
      "execution_count": null,
      "outputs": []
    },
    {
      "cell_type": "code",
      "metadata": {
        "id": "3TRSBW9kT3if"
      },
      "source": [
        "\n",
        "\n",
        "X_train_tst, X_test_tst, y_train_tst, y_test_tst = train_test_split(train_all_best, target['TST'], test_size=0.2, random_state=42)\n",
        "X_train_c, X_test_c, y_train_c, y_test_c = train_test_split(train_all_best, target['C'], test_size=0.2, random_state=42)\n",
        "cat_c = CatBoostRegressor(depth=7, iterations=2000, learning_rate=0.03, task_type='GPU', random_seed=42)\n",
        "cat_tst = CatBoostRegressor(depth=7, iterations=2000, learning_rate=0.03, task_type='GPU', random_seed=42)\n",
        "\n",
        "# param_grid = {'depth' : [3, 7, 9],\n",
        "#                 'learning_rate' : [0.03, 0.05, 0.1],\n",
        "#                 'l2_leaf_reg' : [3, 5, 7]}\n",
        "# best_cat_c = GridSearchCV(cat_c, param_grid=param_grid, n_jobs=-1, verbose=1, cv=2).fit(X_train_c, y_train_c).best_estimator_\n",
        "# best_cat_ts = GridSearchCV(cat_ts, param_grid=param_grid, n_jobs=-1, verbose=1, cv=2).fit(X_train_tst, y_train_tst).best_estimator_\n",
        "\n",
        "cat_c.fit(X_train_c, y_train_c)\n",
        "cat_tst.fit(X_train_tst, y_train_tst)"
      ],
      "execution_count": null,
      "outputs": []
    },
    {
      "cell_type": "code",
      "metadata": {
        "id": "yYfBpZVuVOVG"
      },
      "source": [
        "preds_tst = cat_tst.predict(test_all)\n",
        "preds_c = cat_c.predict(test_all)\n",
        "  \n",
        "submit = pd.DataFrame({'NPLV' : nplv, 'TST' : preds_tst, 'C' : preds_c})\n",
        "submit.to_csv(f'submission_{time()}.csv')"
      ],
      "execution_count": null,
      "outputs": []
    },
    {
      "cell_type": "markdown",
      "metadata": {
        "id": "41Lhmf5zM1zj"
      },
      "source": [
        "##LGBM"
      ]
    },
    {
      "cell_type": "code",
      "metadata": {
        "id": "aCZx9cv3RVuB"
      },
      "source": [
        "!pip install optuna"
      ],
      "execution_count": null,
      "outputs": []
    },
    {
      "cell_type": "code",
      "metadata": {
        "id": "p2AOqNSExUIJ"
      },
      "source": [
        "import lightgbm as lgbm\n",
        "import optuna\n",
        "from optuna.samplers import TPESampler\n",
        "from sklearn.metrics import mean_squared_error\n",
        "sampler = TPESampler(seed=13)\n",
        "\n",
        "def create_model(trial):\n",
        "    num_leaves = trial.suggest_int(\"num_leaves\", 2, 80)\n",
        "    n_estimators = trial.suggest_int(\"n_estimators\", 50, 500)\n",
        "    max_depth = trial.suggest_int('max_depth', 2, 7)\n",
        "    min_child_samples = trial.suggest_int('min_child_samples', 2, 100)\n",
        "    learning_rate = trial.suggest_uniform('learning_rate', 0.001, 0.99)\n",
        "    min_data_in_leaf = trial.suggest_int('min_data_in_leaf', 2, 50)\n",
        "    feature_fraction = trial.suggest_uniform('feature_fraction', 0.00001, 1.0)\n",
        "    \n",
        "    model = lgbm.LGBMRegressor(\n",
        "        num_leaves=num_leaves,\n",
        "        n_estimators=n_estimators, \n",
        "        max_depth=max_depth, \n",
        "        min_child_samples=min_child_samples, \n",
        "        min_data_in_leaf=min_data_in_leaf,\n",
        "        learning_rate=learning_rate,\n",
        "        feature_fraction=feature_fraction,\n",
        "        random_state=13,\n",
        "        n_jobs=-1\n",
        ")\n",
        "    return model\n",
        "\n",
        "def objective(trial):\n",
        "    model = create_model(trial)\n",
        "    X_train, X_test, y_train, y_test = train_test_split(train_all_best, target['TST'])\n",
        "    model.fit(X_train, y_train)\n",
        "    result = model.predict(X_test)\n",
        "    score = mean_squared_error(y_test.values, result)\n",
        "    return score\n",
        "\n",
        "# раскоментить надо последние 3 строчки для запуска оптимизатора\n",
        "\n",
        "# study = optuna.create_study(direction=\"minimize\", sampler=sampler)\n",
        "# study.optimize(objective, n_trials=1000)\n",
        "# params_lgbm = study.best_params"
      ],
      "execution_count": null,
      "outputs": []
    },
    {
      "cell_type": "code",
      "metadata": {
        "id": "aVMbQBto745K"
      },
      "source": [
        "# параметры, полученные с помощью оптюны\n",
        "params_lgbm_C = {'feature_fraction': 0.9128015319322991,\n",
        "                'learning_rate': 0.16001167282336393,\n",
        "                'max_depth': 2,\n",
        "                'min_child_samples': 17,\n",
        "                'min_data_in_leaf': 24,\n",
        "                'n_estimators': 145,\n",
        "                'num_leaves': 4}\n",
        "\n",
        "params_lgbm_tst = {'feature_fraction': 0.4632561843030582,\n",
        "                'learning_rate': 0.09810862221017563,\n",
        "                'max_depth': 6,\n",
        "                'min_child_samples': 82,\n",
        "                'min_data_in_leaf': 41,\n",
        "                'n_estimators': 183,\n",
        "                'num_leaves': 16}"
      ],
      "execution_count": null,
      "outputs": []
    },
    {
      "cell_type": "code",
      "metadata": {
        "id": "Y859aqN98aEw"
      },
      "source": [
        "lgbm_c = lgbm.LGBMRegressor(**params_lgbm_tst)\n",
        "lgbm_tst = lgbm.LGBMRegressor(**params_lgbm_tst)\n",
        "\n",
        "lgbm_c.fit(train_all_best, target['C'])\n",
        "lgbm_tst.fit(train_all_best, target['TST'])"
      ],
      "execution_count": null,
      "outputs": []
    },
    {
      "cell_type": "code",
      "metadata": {
        "id": "9fCjLmoq1rQq"
      },
      "source": [
        "preds_tst = lgbm_tst.predict(test_all_best)\n",
        "preds_c =  lgbm_c.predict(test_all_best)\n",
        "\n",
        "submit = pd.DataFrame({'NPLV' : nplv, 'TST' : preds_tst, 'C' : preds_c})\n",
        "submit.to_csv(f'submission_{time()}.csv')"
      ],
      "execution_count": null,
      "outputs": []
    }
  ]
}