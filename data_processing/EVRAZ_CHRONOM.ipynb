{
  "nbformat": 4,
  "nbformat_minor": 0,
  "metadata": {
    "colab": {
      "name": "EVRAZ_CHRONOM.ipynb",
      "provenance": [],
      "collapsed_sections": [
        "hp79VfGr_p8L"
      ]
    },
    "kernelspec": {
      "name": "python3",
      "display_name": "Python 3"
    },
    "language_info": {
      "name": "python"
    }
  },
  "cells": [
    {
      "cell_type": "markdown",
      "metadata": {
        "id": "hp79VfGr_p8L"
      },
      "source": [
        "# Загрузка "
      ]
    },
    {
      "cell_type": "code",
      "metadata": {
        "id": "8HbF67D27g8U"
      },
      "source": [
        "# загружаем библиотеки\n",
        "import numpy as np\n",
        "import pandas as pd\n",
        "import pandas_profiling\n",
        "from pandas_profiling import ProfileReport\n",
        "\n",
        "# статистика\n",
        "from scipy import sparse\n",
        "import scipy.stats as ss\n",
        "\n",
        "# отображение\n",
        "import matplotlib.pyplot as plt\n",
        "import matplotlib.gridspec as gridspec \n",
        "import seaborn as sns\n",
        "from sklearn import preprocessing \n",
        "\n",
        "# работа со времинем\n",
        "import datetime\n",
        "from datetime import datetime\n",
        "from datetime import timedelta\n",
        "\n",
        "# валидация по датам\n",
        "from sklearn.model_selection import TimeSeriesSplit\n",
        "\n",
        "# метрика\n",
        "from sklearn.metrics import mean_absolute_error as mae\n",
        "\n",
        "# модели\n",
        "from sklearn.ensemble import GradientBoostingRegressor as GBR\n",
        "from fbprophet import Prophet\n",
        "\n",
        "from sklearn import datasets, linear_model\n",
        "from sklearn.model_selection import cross_val_score\n",
        "from sklearn.model_selection import KFold\n",
        "from sklearn import preprocessing\n",
        "\n",
        "from sklearn.preprocessing import LabelEncoder\n",
        "from sklearn.model_selection import train_test_split \n",
        "from sklearn.metrics import r2_score, mean_absolute_error, mean_squared_error \n",
        "from sklearn.linear_model import LinearRegression\n",
        "\n",
        "\n",
        "import missingno as msno\n",
        "import re\n",
        "from matplotlib.pyplot import stackplot\n",
        "from scipy import stats\n"
      ],
      "execution_count": null,
      "outputs": []
    },
    {
      "cell_type": "markdown",
      "metadata": {
        "id": "btepqK4HAKfh"
      },
      "source": [
        "# Скачиваем данные"
      ]
    },
    {
      "cell_type": "code",
      "metadata": {
        "id": "5w8lH_d3BfMD"
      },
      "source": [
        "chronom_test = pd.read_csv('/content/drive/MyDrive/Colab Notebooks/HACK/EVRAZ/data_task1/chronom_test.csv')\n",
        "chronom_train = pd.read_csv('/content/drive/MyDrive/Colab Notebooks/HACK/EVRAZ/data_task1/chronom_train.csv')"
      ],
      "execution_count": null,
      "outputs": []
    },
    {
      "cell_type": "code",
      "metadata": {
        "colab": {
          "base_uri": "https://localhost:8080/"
        },
        "id": "EPgVN01uasVm",
        "outputId": "baf3a000-253f-44c9-cb45-850aa69fdfce"
      },
      "source": [
        "from google.colab import drive\n",
        "drive.mount('/content/drive')"
      ],
      "execution_count": null,
      "outputs": [
        {
          "output_type": "stream",
          "name": "stdout",
          "text": [
            "Drive already mounted at /content/drive; to attempt to forcibly remount, call drive.mount(\"/content/drive\", force_remount=True).\n"
          ]
        }
      ]
    },
    {
      "cell_type": "code",
      "metadata": {
        "id": "ADy8jjhFYUiO"
      },
      "source": [
        "def get_chronom_data(data):\n",
        "\n",
        "  # дропаем \"Unnamed: 0\"\n",
        "  data.drop(['Unnamed: 0'], axis=1, inplace=True)\n",
        "  \n",
        "  # переводим время в datetime\n",
        "  data['VR_NACH'] = pd.to_datetime(data['VR_NACH'])\n",
        "  data['VR_KON']  = pd.to_datetime(data['VR_KON'])\n",
        "\n",
        "  # дропаем все type_oper != межпл.прост. & вн.пл.прост.\n",
        "  data = data[data.TYPE_OPER == 'опер']\n",
        "\n",
        "  # удаляем старые года\n",
        "  data['year'] = pd.to_datetime(data.VR_NACH).dt.year\n",
        "  data = data[data.year >= 2021]\n",
        "  data = data.drop(['year'], axis=1)\n",
        "\n",
        "  # создаем таблицу для вывода\n",
        "  data_base = pd.DataFrame()\n",
        "\n",
        "  # считаем колличество кислорода\n",
        "  data_base['O2_sum'] = data.groupby(['NPLV']).O2.sum()\n",
        "\n",
        "  # считаем колличество процессов\n",
        "  data_base['NOP_count'] = data.groupby(['NPLV']).NOP.count()\n",
        "\n",
        "  # считаем общую продолжительность процессов\n",
        "  data_base['long_proces'] = data.groupby(['NPLV']).VR_KON.max() - data.groupby(['NPLV']).VR_NACH.min()\n",
        "\n",
        "  # переводим в секунды\n",
        "  for i in range(len(data_base)):\n",
        "    data_base['long_proces'].iloc[i] = data_base['long_proces'].iloc[i].total_seconds()\n",
        "\n",
        "  # считаем колличество кислорода для С и t\n",
        "  data_base['O2_C'] = data[data.NOP == 'Додувка на C'].groupby(['NPLV']).O2.sum()\n",
        "  data_base['O2_t'] = data[data.NOP == 'Додувка на t'].groupby(['NPLV']).O2.sum()\n",
        "\n",
        "  data_base = data_base.reset_index()\n",
        "  \n",
        "  return data_base"
      ],
      "execution_count": null,
      "outputs": []
    },
    {
      "cell_type": "code",
      "metadata": {
        "colab": {
          "base_uri": "https://localhost:8080/"
        },
        "id": "IRB8qzadezYJ",
        "outputId": "276ab05e-a527-47eb-d652-0982d05ab170"
      },
      "source": [
        "DF = get_chronom_data(chronom_train)"
      ],
      "execution_count": null,
      "outputs": [
        {
          "output_type": "stream",
          "name": "stderr",
          "text": [
            "/usr/local/lib/python3.7/dist-packages/ipykernel_launcher.py:14: SettingWithCopyWarning:\n",
            "\n",
            "\n",
            "A value is trying to be set on a copy of a slice from a DataFrame.\n",
            "Try using .loc[row_indexer,col_indexer] = value instead\n",
            "\n",
            "See the caveats in the documentation: https://pandas.pydata.org/pandas-docs/stable/user_guide/indexing.html#returning-a-view-versus-a-copy\n",
            "\n",
            "/usr/local/lib/python3.7/dist-packages/pandas/core/indexing.py:670: SettingWithCopyWarning:\n",
            "\n",
            "\n",
            "A value is trying to be set on a copy of a slice from a DataFrame\n",
            "\n",
            "See the caveats in the documentation: https://pandas.pydata.org/pandas-docs/stable/user_guide/indexing.html#returning-a-view-versus-a-copy\n",
            "\n"
          ]
        }
      ]
    },
    {
      "cell_type": "code",
      "metadata": {
        "colab": {
          "base_uri": "https://localhost:8080/"
        },
        "id": "o3Hiyx5De7hw",
        "outputId": "661ab1ad-2f09-415f-e133-b3593b030691"
      },
      "source": [
        "DF_T = get_chronom_data(chronom_test)"
      ],
      "execution_count": null,
      "outputs": [
        {
          "output_type": "stream",
          "name": "stderr",
          "text": [
            "/usr/local/lib/python3.7/dist-packages/ipykernel_launcher.py:14: SettingWithCopyWarning:\n",
            "\n",
            "\n",
            "A value is trying to be set on a copy of a slice from a DataFrame.\n",
            "Try using .loc[row_indexer,col_indexer] = value instead\n",
            "\n",
            "See the caveats in the documentation: https://pandas.pydata.org/pandas-docs/stable/user_guide/indexing.html#returning-a-view-versus-a-copy\n",
            "\n",
            "/usr/local/lib/python3.7/dist-packages/pandas/core/indexing.py:670: SettingWithCopyWarning:\n",
            "\n",
            "\n",
            "A value is trying to be set on a copy of a slice from a DataFrame\n",
            "\n",
            "See the caveats in the documentation: https://pandas.pydata.org/pandas-docs/stable/user_guide/indexing.html#returning-a-view-versus-a-copy\n",
            "\n"
          ]
        }
      ]
    },
    {
      "cell_type": "code",
      "metadata": {
        "colab": {
          "base_uri": "https://localhost:8080/",
          "height": 420
        },
        "id": "KwmAC6p8fYy4",
        "outputId": "629bcb71-543b-487b-8c44-95e526bc6376"
      },
      "source": [
        "DF"
      ],
      "execution_count": null,
      "outputs": [
        {
          "output_type": "execute_result",
          "data": {
            "text/html": [
              "<div>\n",
              "<style scoped>\n",
              "    .dataframe tbody tr th:only-of-type {\n",
              "        vertical-align: middle;\n",
              "    }\n",
              "\n",
              "    .dataframe tbody tr th {\n",
              "        vertical-align: top;\n",
              "    }\n",
              "\n",
              "    .dataframe thead th {\n",
              "        text-align: right;\n",
              "    }\n",
              "</style>\n",
              "<table border=\"1\" class=\"dataframe\">\n",
              "  <thead>\n",
              "    <tr style=\"text-align: right;\">\n",
              "      <th></th>\n",
              "      <th>NPLV</th>\n",
              "      <th>O2_sum</th>\n",
              "      <th>NOP_count</th>\n",
              "      <th>long_proces</th>\n",
              "      <th>O2_C</th>\n",
              "      <th>O2_t</th>\n",
              "    </tr>\n",
              "  </thead>\n",
              "  <tbody>\n",
              "    <tr>\n",
              "      <th>0</th>\n",
              "      <td>510008</td>\n",
              "      <td>2909.0</td>\n",
              "      <td>9</td>\n",
              "      <td>2579</td>\n",
              "      <td>NaN</td>\n",
              "      <td>NaN</td>\n",
              "    </tr>\n",
              "    <tr>\n",
              "      <th>1</th>\n",
              "      <td>510009</td>\n",
              "      <td>2182.0</td>\n",
              "      <td>9</td>\n",
              "      <td>4004</td>\n",
              "      <td>NaN</td>\n",
              "      <td>NaN</td>\n",
              "    </tr>\n",
              "    <tr>\n",
              "      <th>2</th>\n",
              "      <td>510010</td>\n",
              "      <td>2841.0</td>\n",
              "      <td>9</td>\n",
              "      <td>2904</td>\n",
              "      <td>NaN</td>\n",
              "      <td>NaN</td>\n",
              "    </tr>\n",
              "    <tr>\n",
              "      <th>3</th>\n",
              "      <td>510011</td>\n",
              "      <td>10.0</td>\n",
              "      <td>10</td>\n",
              "      <td>3291</td>\n",
              "      <td>NaN</td>\n",
              "      <td>NaN</td>\n",
              "    </tr>\n",
              "    <tr>\n",
              "      <th>4</th>\n",
              "      <td>510012</td>\n",
              "      <td>3225.0</td>\n",
              "      <td>11</td>\n",
              "      <td>2895</td>\n",
              "      <td>NaN</td>\n",
              "      <td>1094.0</td>\n",
              "    </tr>\n",
              "    <tr>\n",
              "      <th>...</th>\n",
              "      <td>...</td>\n",
              "      <td>...</td>\n",
              "      <td>...</td>\n",
              "      <td>...</td>\n",
              "      <td>...</td>\n",
              "      <td>...</td>\n",
              "    </tr>\n",
              "    <tr>\n",
              "      <th>2058</th>\n",
              "      <td>512318</td>\n",
              "      <td>1917.0</td>\n",
              "      <td>10</td>\n",
              "      <td>3084</td>\n",
              "      <td>NaN</td>\n",
              "      <td>1917.0</td>\n",
              "    </tr>\n",
              "    <tr>\n",
              "      <th>2059</th>\n",
              "      <td>512319</td>\n",
              "      <td>1660.0</td>\n",
              "      <td>10</td>\n",
              "      <td>3843</td>\n",
              "      <td>1660.0</td>\n",
              "      <td>NaN</td>\n",
              "    </tr>\n",
              "    <tr>\n",
              "      <th>2060</th>\n",
              "      <td>512320</td>\n",
              "      <td>0.0</td>\n",
              "      <td>9</td>\n",
              "      <td>3305</td>\n",
              "      <td>NaN</td>\n",
              "      <td>NaN</td>\n",
              "    </tr>\n",
              "    <tr>\n",
              "      <th>2061</th>\n",
              "      <td>512321</td>\n",
              "      <td>371.0</td>\n",
              "      <td>10</td>\n",
              "      <td>3660</td>\n",
              "      <td>371.0</td>\n",
              "      <td>NaN</td>\n",
              "    </tr>\n",
              "    <tr>\n",
              "      <th>2062</th>\n",
              "      <td>512322</td>\n",
              "      <td>665.0</td>\n",
              "      <td>10</td>\n",
              "      <td>4840</td>\n",
              "      <td>NaN</td>\n",
              "      <td>NaN</td>\n",
              "    </tr>\n",
              "  </tbody>\n",
              "</table>\n",
              "<p>2063 rows × 6 columns</p>\n",
              "</div>"
            ],
            "text/plain": [
              "        NPLV  O2_sum  NOP_count long_proces    O2_C    O2_t\n",
              "0     510008  2909.0          9        2579     NaN     NaN\n",
              "1     510009  2182.0          9        4004     NaN     NaN\n",
              "2     510010  2841.0          9        2904     NaN     NaN\n",
              "3     510011    10.0         10        3291     NaN     NaN\n",
              "4     510012  3225.0         11        2895     NaN  1094.0\n",
              "...      ...     ...        ...         ...     ...     ...\n",
              "2058  512318  1917.0         10        3084     NaN  1917.0\n",
              "2059  512319  1660.0         10        3843  1660.0     NaN\n",
              "2060  512320     0.0          9        3305     NaN     NaN\n",
              "2061  512321   371.0         10        3660   371.0     NaN\n",
              "2062  512322   665.0         10        4840     NaN     NaN\n",
              "\n",
              "[2063 rows x 6 columns]"
            ]
          },
          "metadata": {},
          "execution_count": 33
        }
      ]
    },
    {
      "cell_type": "code",
      "metadata": {
        "colab": {
          "base_uri": "https://localhost:8080/",
          "height": 420
        },
        "id": "eSSkbznija_R",
        "outputId": "59ba5533-8ddf-4eed-de9e-9294e46257a2"
      },
      "source": [
        "DF_T"
      ],
      "execution_count": null,
      "outputs": [
        {
          "output_type": "execute_result",
          "data": {
            "text/html": [
              "<div>\n",
              "<style scoped>\n",
              "    .dataframe tbody tr th:only-of-type {\n",
              "        vertical-align: middle;\n",
              "    }\n",
              "\n",
              "    .dataframe tbody tr th {\n",
              "        vertical-align: top;\n",
              "    }\n",
              "\n",
              "    .dataframe thead th {\n",
              "        text-align: right;\n",
              "    }\n",
              "</style>\n",
              "<table border=\"1\" class=\"dataframe\">\n",
              "  <thead>\n",
              "    <tr style=\"text-align: right;\">\n",
              "      <th></th>\n",
              "      <th>NPLV</th>\n",
              "      <th>O2_sum</th>\n",
              "      <th>NOP_count</th>\n",
              "      <th>long_proces</th>\n",
              "      <th>O2_C</th>\n",
              "      <th>O2_t</th>\n",
              "    </tr>\n",
              "  </thead>\n",
              "  <tbody>\n",
              "    <tr>\n",
              "      <th>0</th>\n",
              "      <td>512324</td>\n",
              "      <td>1452.0</td>\n",
              "      <td>5</td>\n",
              "      <td>2581</td>\n",
              "      <td>NaN</td>\n",
              "      <td>NaN</td>\n",
              "    </tr>\n",
              "    <tr>\n",
              "      <th>1</th>\n",
              "      <td>512327</td>\n",
              "      <td>0.0</td>\n",
              "      <td>3</td>\n",
              "      <td>1766</td>\n",
              "      <td>NaN</td>\n",
              "      <td>NaN</td>\n",
              "    </tr>\n",
              "    <tr>\n",
              "      <th>2</th>\n",
              "      <td>512328</td>\n",
              "      <td>0.0</td>\n",
              "      <td>3</td>\n",
              "      <td>3368</td>\n",
              "      <td>NaN</td>\n",
              "      <td>NaN</td>\n",
              "    </tr>\n",
              "    <tr>\n",
              "      <th>3</th>\n",
              "      <td>512331</td>\n",
              "      <td>0.0</td>\n",
              "      <td>3</td>\n",
              "      <td>4339</td>\n",
              "      <td>NaN</td>\n",
              "      <td>NaN</td>\n",
              "    </tr>\n",
              "    <tr>\n",
              "      <th>4</th>\n",
              "      <td>512333</td>\n",
              "      <td>0.0</td>\n",
              "      <td>3</td>\n",
              "      <td>2773</td>\n",
              "      <td>NaN</td>\n",
              "      <td>NaN</td>\n",
              "    </tr>\n",
              "    <tr>\n",
              "      <th>...</th>\n",
              "      <td>...</td>\n",
              "      <td>...</td>\n",
              "      <td>...</td>\n",
              "      <td>...</td>\n",
              "      <td>...</td>\n",
              "      <td>...</td>\n",
              "    </tr>\n",
              "    <tr>\n",
              "      <th>775</th>\n",
              "      <td>513369</td>\n",
              "      <td>2433.0</td>\n",
              "      <td>5</td>\n",
              "      <td>2170</td>\n",
              "      <td>NaN</td>\n",
              "      <td>NaN</td>\n",
              "    </tr>\n",
              "    <tr>\n",
              "      <th>776</th>\n",
              "      <td>513370</td>\n",
              "      <td>2232.0</td>\n",
              "      <td>5</td>\n",
              "      <td>2101</td>\n",
              "      <td>NaN</td>\n",
              "      <td>NaN</td>\n",
              "    </tr>\n",
              "    <tr>\n",
              "      <th>777</th>\n",
              "      <td>513371</td>\n",
              "      <td>1904.0</td>\n",
              "      <td>5</td>\n",
              "      <td>2689</td>\n",
              "      <td>NaN</td>\n",
              "      <td>NaN</td>\n",
              "    </tr>\n",
              "    <tr>\n",
              "      <th>778</th>\n",
              "      <td>513372</td>\n",
              "      <td>0.0</td>\n",
              "      <td>3</td>\n",
              "      <td>1614</td>\n",
              "      <td>NaN</td>\n",
              "      <td>NaN</td>\n",
              "    </tr>\n",
              "    <tr>\n",
              "      <th>779</th>\n",
              "      <td>513374</td>\n",
              "      <td>1797.0</td>\n",
              "      <td>5</td>\n",
              "      <td>1845</td>\n",
              "      <td>NaN</td>\n",
              "      <td>NaN</td>\n",
              "    </tr>\n",
              "  </tbody>\n",
              "</table>\n",
              "<p>780 rows × 6 columns</p>\n",
              "</div>"
            ],
            "text/plain": [
              "       NPLV  O2_sum  NOP_count long_proces  O2_C  O2_t\n",
              "0    512324  1452.0          5        2581   NaN   NaN\n",
              "1    512327     0.0          3        1766   NaN   NaN\n",
              "2    512328     0.0          3        3368   NaN   NaN\n",
              "3    512331     0.0          3        4339   NaN   NaN\n",
              "4    512333     0.0          3        2773   NaN   NaN\n",
              "..      ...     ...        ...         ...   ...   ...\n",
              "775  513369  2433.0          5        2170   NaN   NaN\n",
              "776  513370  2232.0          5        2101   NaN   NaN\n",
              "777  513371  1904.0          5        2689   NaN   NaN\n",
              "778  513372     0.0          3        1614   NaN   NaN\n",
              "779  513374  1797.0          5        1845   NaN   NaN\n",
              "\n",
              "[780 rows x 6 columns]"
            ]
          },
          "metadata": {},
          "execution_count": 34
        }
      ]
    },
    {
      "cell_type": "markdown",
      "metadata": {
        "id": "x24o4x2-eXH7"
      },
      "source": [
        ""
      ]
    },
    {
      "cell_type": "code",
      "metadata": {
        "id": "Y2dWHZsVjgta"
      },
      "source": [
        "DF_T.to_csv(\"df_chronom_test.csv\", index=False)\n",
        "DF.to_csv(\"df_chronom_train.csv\", index=False)"
      ],
      "execution_count": null,
      "outputs": []
    },
    {
      "cell_type": "markdown",
      "metadata": {
        "id": "WfbkdnFrmPLL"
      },
      "source": [
        "Топ вичи:\n",
        "\n",
        "1. + общее время процессов\n",
        "2. + кол. кислорода на ломе \n",
        "2. + кол. кислорода уникальныйх процессов (додувка C/t)\n",
        "3. + общее кол. операций \n",
        "\n",
        "5. продолжительность каждого процесса\n",
        "\n",
        "* наличие уникальныйх процессов (додувка C/t)\n",
        "\n",
        "https://russianhackers.notion.site/a685453e4fde41a098d9ad704d906e21?v=c482eaeb8f3143d58763b4b9008f1fec"
      ]
    }
  ]
}